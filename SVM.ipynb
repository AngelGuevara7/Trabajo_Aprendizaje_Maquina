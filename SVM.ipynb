{
 "cells": [
  {
   "cell_type": "code",
   "execution_count": 6,
   "id": "657921e0",
   "metadata": {},
   "outputs": [],
   "source": [
    "import numpy as np\n",
    "import sklearn\n",
    "\n",
    "from sklearn.metrics.pairwise import rbf_kernel\n",
    "from sklearn.model_selection import ShuffleSplit, GridSearchCV, train_test_split\n",
    "from sklearn import svm, metrics\n",
    "from sklearn.cluster import KMeans"
   ]
  },
  {
   "cell_type": "code",
   "execution_count": 5,
   "id": "36e8163b",
   "metadata": {},
   "outputs": [],
   "source": [
    "# Importamos los datos\n",
    "\n",
    "X=np.load(\"./datos_mfcc_pca99_X.npy\")\n",
    "y=np.load(\"./datos_mfcc_pca99_y.npy\")"
   ]
  },
  {
   "cell_type": "code",
   "execution_count": 8,
   "id": "713b11b6",
   "metadata": {},
   "outputs": [],
   "source": [
    "#Reducimos el conjunto de entrenamiento al 50% usando un método no supervisado. En este caso, un C-means con el que pretendemos\n",
    "# quedarnos con los centros de los clusters que aparezcan, que serán los puntos más representativos.\n",
    "\n",
    "c = 6             # número de clases\n",
    "nc = 120          # muestras por clase\n",
    "n= 720           # número de muestras totales\n",
    "\n",
    "X_reduc=[]\n",
    "y_reduc=np.int16(np.kron(np.arange(c),np.ones(nc//2)))\n",
    "\n",
    "for i in range(0,n,nc):\n",
    "    k_means=KMeans(n_clusters=nc//2)\n",
    "    k_means.fit(X[i:(i+nc)])\n",
    "    centros=k_means.cluster_centers_\n",
    "    X_reduc.append(centros)"
   ]
  },
  {
   "cell_type": "code",
   "execution_count": 13,
   "id": "e3c3f7e4",
   "metadata": {},
   "outputs": [
    {
     "name": "stdout",
     "output_type": "stream",
     "text": [
      "(60, 464)\n",
      "(360, 464)\n"
     ]
    }
   ],
   "source": [
    "print(X_reduc[0].shape)\n",
    "# Reshapeamos las dimensiones de X_reduc para tenerlo todo en una matriz dónde cada fila será una muestra y cada columna una \n",
    "# característica. La matriz estará ordenada por clases. \n",
    "# Para reshapear, antes habrá que convertir a array.\n",
    "\n",
    "\n",
    "X_reduc=np.array(X_reduc).reshape((360,464))\n",
    "print(X_reduc.shape)"
   ]
  },
  {
   "cell_type": "code",
   "execution_count": 18,
   "id": "29e276cb",
   "metadata": {},
   "outputs": [],
   "source": [
    "# Ahora ya podemos dividir nuestro conjunto reducido en entrenamiento y test, y probar algunos métodos Kernel.\n",
    "\n",
    "Xtr, Xts, ytr, yts = train_test_split(X_reduc, y_reduc, test_size=0.3, shuffle=True, random_state=0)\n"
   ]
  },
  {
   "cell_type": "code",
   "execution_count": 23,
   "id": "63dca88a",
   "metadata": {},
   "outputs": [
    {
     "name": "stdout",
     "output_type": "stream",
     "text": [
      "[LibSVM]\n",
      "OA train 0.92\n",
      "Kappa train 0.90\n",
      "OA test 0.71\n",
      "Kappa test 0.66\n"
     ]
    }
   ],
   "source": [
    "# Aplicamos directamente un clasificador SVC con los parámetros por defecto y calculamos algunas métricas para ver cómo funciona\n",
    "\n",
    "clf=svm.SVC(verbose=True)\n",
    "clf.fit(Xtr,ytr)\n",
    "\n",
    "score_tr = clf.score(Xtr,ytr)\n",
    "score_ts = clf.score(Xts,yts)\n",
    "preds_train=clf.predict(Xtr)\n",
    "preds_test = clf.predict(Xts)\n",
    "\n",
    "print('')\n",
    "print('OA train %0.2f' % score_tr)\n",
    "print('Kappa train %0.2f' % metrics.cohen_kappa_score(ytr,preds_train))\n",
    "print('OA test %0.2f' % score_ts)\n",
    "print('Kappa test %0.2f' % metrics.cohen_kappa_score(yts,preds_test))\n"
   ]
  },
  {
   "cell_type": "code",
   "execution_count": 26,
   "id": "0e2d13c9",
   "metadata": {},
   "outputs": [
    {
     "name": "stdout",
     "output_type": "stream",
     "text": [
      "[[12  0  1  0  1  3]\n",
      " [ 2 12  0  1  0  5]\n",
      " [ 2  0 15  1  0  2]\n",
      " [ 2  0  3 17  0  0]\n",
      " [ 3  2  1  0 12  0]\n",
      " [ 0  0  0  1  1  9]]\n"
     ]
    }
   ],
   "source": [
    "# Matriz de confusión\n",
    "\n",
    "CM=metrics.confusion_matrix(yts,preds_test)\n",
    "print(CM)"
   ]
  },
  {
   "cell_type": "markdown",
   "id": "58c2e007",
   "metadata": {},
   "source": [
    "Observamos que con los parámetros por defecto, obtenemos unos resultados bastante buenos en entrenamiento y un acierto bastante decente en test. \n",
    "\n",
    "Además, vemos que la matriz de confusión está bastante balanceada, por lo que tiene buena pinta este clasificador para nuestros datos.\n",
    "\n",
    "Veamos ahora qué ocurre si hacemos una búsqueda por cross-validation de los parámetros ideales. Queremos intentar mejorar lo que ya tenemos."
   ]
  },
  {
   "cell_type": "code",
   "execution_count": 24,
   "id": "323e6a40",
   "metadata": {},
   "outputs": [
    {
     "data": {
      "text/plain": [
       "{'C': 1.0,\n",
       " 'break_ties': False,\n",
       " 'cache_size': 200,\n",
       " 'class_weight': None,\n",
       " 'coef0': 0.0,\n",
       " 'decision_function_shape': 'ovr',\n",
       " 'degree': 3,\n",
       " 'gamma': 'scale',\n",
       " 'kernel': 'rbf',\n",
       " 'max_iter': -1,\n",
       " 'probability': False,\n",
       " 'random_state': None,\n",
       " 'shrinking': True,\n",
       " 'tol': 0.001,\n",
       " 'verbose': True}"
      ]
     },
     "execution_count": 24,
     "metadata": {},
     "output_type": "execute_result"
    }
   ],
   "source": [
    "# Los parámetros por defecto usados han sido \n",
    "\n",
    "clf.get_params() \n",
    "\n",
    "# dónde gamma= 'scale' viene definida por la siguiente fórmula: gamma = 1/(464*Xtr[2].var())"
   ]
  },
  {
   "cell_type": "code",
   "execution_count": 40,
   "id": "d3aebd4c",
   "metadata": {},
   "outputs": [
    {
     "name": "stdout",
     "output_type": "stream",
     "text": [
      "\n",
      "OA train 0.93\n",
      "Kappa train 0.92\n",
      "OA test 0.77\n",
      "Kappa test 0.72\n"
     ]
    }
   ],
   "source": [
    "# Buscamos los parámetros óptimos con GridSearchCV\n",
    "\n",
    "gammas = np.logspace(-9, 7, 10)\n",
    "Cs = np.logspace(-9, 7, 10)  \n",
    "tuned_parameters = { 'gamma': gammas,'C': Cs} \n",
    "\n",
    "clf2 = GridSearchCV(svm.SVC(kernel='rbf'), tuned_parameters, cv=5,n_jobs=-1,verbose=0)\n",
    "clf2.fit(Xtr,ytr)\n",
    "clf2=clf2.best_estimator_\n",
    "\n",
    "score_tr = clf2.score(Xtr,ytr)\n",
    "score_ts = clf2.score(Xts,yts)\n",
    "preds_train=clf2.predict(Xtr)\n",
    "preds_test = clf2.predict(Xts)\n",
    "\n",
    "print('')\n",
    "print('OA train %0.2f' % score_tr)\n",
    "print('Kappa train %0.2f' % metrics.cohen_kappa_score(ytr,preds_train))\n",
    "print('OA test %0.2f' % score_ts)\n",
    "print('Kappa test %0.2f' % metrics.cohen_kappa_score(yts,preds_test))"
   ]
  },
  {
   "cell_type": "code",
   "execution_count": 41,
   "id": "c6cfe243",
   "metadata": {},
   "outputs": [
    {
     "data": {
      "text/plain": [
       "{'C': 2782.5594022071145,\n",
       " 'break_ties': False,\n",
       " 'cache_size': 200,\n",
       " 'class_weight': None,\n",
       " 'coef0': 0.0,\n",
       " 'decision_function_shape': 'ovr',\n",
       " 'degree': 3,\n",
       " 'gamma': 1e-09,\n",
       " 'kernel': 'rbf',\n",
       " 'max_iter': -1,\n",
       " 'probability': False,\n",
       " 'random_state': None,\n",
       " 'shrinking': True,\n",
       " 'tol': 0.001,\n",
       " 'verbose': False}"
      ]
     },
     "execution_count": 41,
     "metadata": {},
     "output_type": "execute_result"
    }
   ],
   "source": [
    "clf2.get_params()"
   ]
  },
  {
   "cell_type": "code",
   "execution_count": 42,
   "id": "4f23812a",
   "metadata": {},
   "outputs": [
    {
     "name": "stdout",
     "output_type": "stream",
     "text": [
      "[[12  1  0  1  1  2]\n",
      " [ 2 12  0  1  1  4]\n",
      " [ 2  0 15  1  0  2]\n",
      " [ 2  0  1 19  0  0]\n",
      " [ 3  0  0  0 15  0]\n",
      " [ 0  0  0  1  0 10]]\n"
     ]
    }
   ],
   "source": [
    "# Matriz de confusión\n",
    "\n",
    "CM=metrics.confusion_matrix(yts,preds_test)\n",
    "print(CM)"
   ]
  },
  {
   "cell_type": "markdown",
   "id": "2b7cbbc7",
   "metadata": {},
   "source": [
    "En general, vemos como al buscar los parámetros óptimos de la función Kernel (='rbf'), los resultados mejoran en todos los aspectos. Obtenemos un mayor acierto tanto en entrenamiento como en test y están balanceados, por lo que en principio no sospecharíamos de sobreajuste. \n",
    "\n",
    "Además, al ver la forma de la matriz de confusión volvemos a ver lo mismo, los resultados están muy balanceados."
   ]
  },
  {
   "cell_type": "code",
   "execution_count": null,
   "id": "19b0b439",
   "metadata": {},
   "outputs": [],
   "source": []
  }
 ],
 "metadata": {
  "kernelspec": {
   "display_name": "Python 3",
   "language": "python",
   "name": "python3"
  },
  "language_info": {
   "codemirror_mode": {
    "name": "ipython",
    "version": 3
   },
   "file_extension": ".py",
   "mimetype": "text/x-python",
   "name": "python",
   "nbconvert_exporter": "python",
   "pygments_lexer": "ipython3",
   "version": "3.8.8"
  }
 },
 "nbformat": 4,
 "nbformat_minor": 5
}
