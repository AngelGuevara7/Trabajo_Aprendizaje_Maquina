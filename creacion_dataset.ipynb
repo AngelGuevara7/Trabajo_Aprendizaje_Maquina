{
 "cells": [
  {
   "cell_type": "code",
   "execution_count": 1,
   "id": "6bdc6205",
   "metadata": {},
   "outputs": [],
   "source": [
    "import numpy as np\n",
    "import matplotlib.pyplot as plt\n",
    "import librosa, librosa.display\n",
    "import sklearn"
   ]
  },
  {
   "cell_type": "code",
   "execution_count": 2,
   "id": "48eb004d",
   "metadata": {},
   "outputs": [
    {
     "name": "stdout",
     "output_type": "stream",
     "text": [
      "%%%%%%%%%%%%%%%%%%%%%%%%%%%%%%%%\n",
      "720 samples from 6 classes\n",
      "Raw dimension is 66150 corresponding to 3.0 seconds of audio\n"
     ]
    }
   ],
   "source": [
    "task_names = [\n",
    " ['Dog', 'Rooster', 'Pig', 'Cow', 'Frog', 'Cat'],\n",
    " ['Rain', 'Sea waves', 'Crackling fire', 'Crickets', 'Chirping birds', 'Water drops'],\n",
    " ['Hen', 'Insects (flying)', 'Sheep', 'Crow', \n",
    "  'Wind', 'Pouring water', 'Toilet flush',  'Thunderstorm', \n",
    "  'Laughing', 'Brushing teeth'],\n",
    " ['Crying baby', 'Sneezing', 'Clapping', 'Breathing', 'Coughing', 'Footsteps'],\n",
    " ['Door knock', 'Mouse click', 'Keyboard typing', 'Door, wood creaks', 'Can opening',\n",
    "  'Washing machine'],\n",
    " ['Snoring',  'Drinking, sipping',\n",
    "  'Vacuum cleaner', 'Clock alarm', 'Clock tick', 'Glass breaking',\n",
    "  'Church bells', 'Airplane', 'Fireworks', 'Hand saw'],\n",
    " ['Helicopter', 'Chainsaw', 'Siren', 'Car horn', 'Engine', 'Train']]\n",
    "\n",
    "\n",
    "print('%%%%%%%%%%%%%%%%%%%%%%%%%%%%%%%%')\n",
    "\n",
    "task=1\n",
    "class_names = task_names[task-1]\n",
    "srate = 22050        # sampling rate\n",
    "c = len(class_names) # no. of classes\n",
    "\n",
    "# load data\n",
    "data = np.load('./Datasets_A/adata%d.npy'%task)\n",
    "\n",
    "n,d = data.shape  # size and (raw) dimension\n",
    "nc = n//c         # samples per class\n",
    "\n",
    "print('%d samples from %d classes'%(n,c))\n",
    "print('Raw dimension is %d corresponding to %.1f seconds of audio'%(d,d/srate))\n",
    "\n",
    "# set up labs\n",
    "labs = np.int16(np.kron(np.arange(c),np.ones(nc)))\n",
    "#esta funcion es como la rep() de R, nos crea una lista con repeticiones de numeros\n",
    "#kron es el producto de kroneker\n"
   ]
  },
  {
   "cell_type": "code",
   "execution_count": 34,
   "id": "daabc3c0",
   "metadata": {},
   "outputs": [
    {
     "data": {
      "text/plain": [
       "array([[666.3772583007812, 138.49143981933594, 278.6678466796875, ...,\n",
       "        1.3278626203536987, 2.220097064971924, 7.582137107849121],\n",
       "       [-96.83726501464844, 24.238248825073242, -40.52796936035156, ...,\n",
       "        -1.1940016746520996, 3.823716640472412, -1.142045497894287],\n",
       "       [-126.9160385131836, -57.48008728027344, -24.605297088623047, ...,\n",
       "        -2.4331281185150146, 0.6552016139030457, 7.769386291503906],\n",
       "       ...,\n",
       "       [-350.2681884765625, -51.67680740356445, -37.63679122924805, ...,\n",
       "        -3.8183434009552, -1.3521010875701904, 2.769855260848999],\n",
       "       [-336.9549255371094, -39.28367233276367, -59.37052917480469, ...,\n",
       "        -0.06740739941596985, -6.972878932952881, 6.853057384490967],\n",
       "       [-302.0516052246094, -5.645651340484619, 6.456109046936035, ...,\n",
       "        -10.345903396606445, 6.083312034606934, -14.459733963012695]],\n",
       "      dtype=object)"
      ]
     },
     "execution_count": 34,
     "metadata": {},
     "output_type": "execute_result"
    }
   ],
   "source": [
    "#hacemos la conversion de señales al espacio transformado \n",
    "#y la seleccion por pca .99\n",
    "\n",
    "\n",
    "Xf = librosa.feature.mfcc(y=data[0,:],\n",
    "                        sr=srate,n_mfcc=20).flatten()    \n",
    "for s in range(1,n):\n",
    "    Mfcc = librosa.feature.mfcc(y=data[s,:],\n",
    "                        sr=srate,n_mfcc=20).flatten()    \n",
    "    Xf = np.vstack([Xf,Mfcc])\n",
    "\n",
    "pca = sklearn.decomposition.PCA(n_components=.99)    \n",
    "pca.fit(Xf)\n",
    "X = pca.transform(Xf)\n"
   ]
  },
  {
   "cell_type": "code",
   "execution_count": 44,
   "id": "77731275",
   "metadata": {},
   "outputs": [
    {
     "name": "stdout",
     "output_type": "stream",
     "text": [
      "object object\n"
     ]
    }
   ],
   "source": [
    "print(X.dtype,labs.dtype)"
   ]
  },
  {
   "cell_type": "code",
   "execution_count": 56,
   "id": "f9375bd2",
   "metadata": {},
   "outputs": [],
   "source": [
    "np.save(\"datos_mfcc_pca99_X.npy\",X)\n",
    "np.save(\"datos_mfcc_pca99_y.npy\",labs)"
   ]
  }
 ],
 "metadata": {
  "kernelspec": {
   "display_name": "Python 3 (ipykernel)",
   "language": "python",
   "name": "python3"
  },
  "language_info": {
   "codemirror_mode": {
    "name": "ipython",
    "version": 3
   },
   "file_extension": ".py",
   "mimetype": "text/x-python",
   "name": "python",
   "nbconvert_exporter": "python",
   "pygments_lexer": "ipython3",
   "version": "3.8.11"
  }
 },
 "nbformat": 4,
 "nbformat_minor": 5
}
