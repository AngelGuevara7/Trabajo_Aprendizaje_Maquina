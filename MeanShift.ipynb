{
 "cells": [
  {
   "cell_type": "code",
   "execution_count": 1,
   "id": "9dd19682",
   "metadata": {},
   "outputs": [],
   "source": [
    "import sklearn \n",
    "from sklearn.cluster import KMeans, AgglomerativeClustering, MeanShift, estimate_bandwidth, DBSCAN\n",
    "from sklearn_extra.cluster import KMedoids\n",
    "\n",
    "from sklearn.neighbors import   NearestCentroid, \\\n",
    "                                KNeighborsClassifier, \\\n",
    "                                KernelDensity\n",
    "from sklearn.mixture import GaussianMixture\n",
    "\n",
    "from sklearn.metrics import silhouette_samples, adjusted_rand_score, \\\n",
    "                            mutual_info_score, normalized_mutual_info_score, \\\n",
    "                            adjusted_mutual_info_score,  \\\n",
    "                            homogeneity_score, completeness_score, v_measure_score, \\\n",
    "                            fowlkes_mallows_score,silhouette_score, calinski_harabasz_score\n",
    "import numpy as np\n",
    "from scipy.cluster.hierarchy import linkage, dendrogram, fcluster"
   ]
  },
  {
   "cell_type": "code",
   "execution_count": 2,
   "id": "2d10bdd3",
   "metadata": {},
   "outputs": [
    {
     "name": "stdout",
     "output_type": "stream",
     "text": [
      "(360, 464)\n",
      "(360, 5)\n",
      "(360,)\n"
     ]
    }
   ],
   "source": [
    "# Importamos los datos solo con las características más importantes\n",
    "\n",
    "X_reduc=np.load(\"./datos_mfcc_pca99_X_reducido_kmeans.npy\")\n",
    "X_reduc2=np.load(\"./datos_mfcc_pca99_X_reducido_2kmeans.npy\")\n",
    "y_reduc=np.load(\"./datos_mfcc_pca99_y_reducido.npy\")\n",
    "print(X_reduc.shape)\n",
    "print(X_reduc2.shape)\n",
    "print(y_reduc.shape)"
   ]
  },
  {
   "cell_type": "code",
   "execution_count": 3,
   "id": "724ffb2c",
   "metadata": {},
   "outputs": [
    {
     "name": "stdout",
     "output_type": "stream",
     "text": [
      "Estimated bandwidth=787.48\n"
     ]
    }
   ],
   "source": [
    "# MEANSHIFT  SIN REDUCCION DE DIMENSIONALIDAD\n",
    "\n",
    "# This way of estimating bandwith is part of the MeanShift algorithm\n",
    "bandwidth = estimate_bandwidth(X_reduc, quantile=0.2,random_state=0)\n",
    "print(\"Estimated bandwidth=%.2f\"%bandwidth)"
   ]
  },
  {
   "cell_type": "code",
   "execution_count": 4,
   "id": "f262810a",
   "metadata": {},
   "outputs": [
    {
     "name": "stdout",
     "output_type": "stream",
     "text": [
      "Bandwidth:  787.4817708333334\n",
      "number of estimated clusters : 2\n",
      "Labels:  {0, 1}\n"
     ]
    }
   ],
   "source": [
    "ms = MeanShift(bandwidth=bandwidth, bin_seeding=True, \n",
    "               cluster_all=True).fit(X_reduc)\n",
    "\n",
    "labels = ms.labels_\n",
    "cluster_centers = ms.cluster_centers_\n",
    "labels_unique = np.unique(labels)\n",
    "n_clusters_ = len(labels_unique) - (1 if -1 in labels else 0)\n",
    "\n",
    "print('Bandwidth: ' , bandwidth)\n",
    "print(\"number of estimated clusters : %d\" % n_clusters_)\n",
    "print('Labels: ' , set(labels))"
   ]
  },
  {
   "cell_type": "markdown",
   "id": "9f7b9c7d",
   "metadata": {},
   "source": [
    "Vemos que sin la reducción de la dimensionalidad solamente me detecta dos clusters. No es un resultado muy bueno ya que sabemos que en realidad debería haber seis clusters, cada uno de ellos correspondiendo a cada una de las clases."
   ]
  },
  {
   "cell_type": "code",
   "execution_count": 5,
   "id": "2a200c9b",
   "metadata": {},
   "outputs": [
    {
     "name": "stdout",
     "output_type": "stream",
     "text": [
      "Estimated bandwidth=358.46\n"
     ]
    }
   ],
   "source": [
    "# MEANSHIFT  CON REDUCCION DE DIMENSIONALIDAD\n",
    "\n",
    "# This way of estimating bandwith is part of the MeanShift algorithm\n",
    "bandwidth = estimate_bandwidth(X_reduc2, quantile=0.2,random_state=0)\n",
    "print(\"Estimated bandwidth=%.2f\"%bandwidth)"
   ]
  },
  {
   "cell_type": "code",
   "execution_count": 6,
   "id": "5308465a",
   "metadata": {},
   "outputs": [],
   "source": [
    "ms = MeanShift(bandwidth=bandwidth, bin_seeding=True, \n",
    "               cluster_all=True).fit(X_reduc2)\n",
    "\n",
    "labels = ms.labels_\n",
    "cluster_centers = ms.cluster_centers_\n",
    "labels_unique = np.unique(labels)\n",
    "n_clusters_ = len(labels_unique) - (1 if -1 in labels else 0)"
   ]
  },
  {
   "cell_type": "code",
   "execution_count": 7,
   "id": "7c767a92",
   "metadata": {},
   "outputs": [
    {
     "name": "stdout",
     "output_type": "stream",
     "text": [
      "Bandwidth:  358.46366281834366\n",
      "number of estimated clusters : 4\n",
      "Labels:  {0, 1, 2, 3}\n"
     ]
    }
   ],
   "source": [
    "print('Bandwidth: ' , bandwidth)\n",
    "print(\"number of estimated clusters : %d\" % n_clusters_)\n",
    "print('Labels: ' , set(labels))"
   ]
  },
  {
   "cell_type": "markdown",
   "id": "efe95df1",
   "metadata": {},
   "source": [
    "Según el algoritmo de clustering MeanShift (sobre los datos reducidos), tendríamos cuatro posibles clusters. \n",
    "\n",
    "Nosotros sabemos que en realidad en nuestros datos debería haber seis clusters porque tenemos seis posibles clases. El hecho de que MeanShift nos dé solo cuatro clusters se puede deber a que éstos estén solapados entre sí. Como este algoritmo funciona por densidades, es facil que considere que dos clusters solapados sean uno en vez de dos."
   ]
  },
  {
   "cell_type": "markdown",
   "id": "78e40c3f",
   "metadata": {},
   "source": [
    "Se nota una mejoría al realizar el clustering sobre un conjunto de muestras de menor dimensionalidad."
   ]
  },
  {
   "cell_type": "markdown",
   "id": "c959024e",
   "metadata": {},
   "source": [
    "Podemos probar a variar el parámetro `bandwith` para ver si obtenemos el resultado que nos gustaría a nosotros. "
   ]
  },
  {
   "cell_type": "code",
   "execution_count": 11,
   "id": "0d4535cc",
   "metadata": {},
   "outputs": [
    {
     "name": "stdout",
     "output_type": "stream",
     "text": [
      "Bandwidth:  358.46366281834366\n",
      "number of estimated clusters : 6\n",
      "Labels:  {0, 1, 2, 3, 4, 5}\n"
     ]
    }
   ],
   "source": [
    "ms = MeanShift(bandwidth=325, bin_seeding=True, \n",
    "               cluster_all=True).fit(X_reduc2)\n",
    "\n",
    "labels = ms.labels_\n",
    "cluster_centers = ms.cluster_centers_\n",
    "labels_unique = np.unique(labels)\n",
    "n_clusters_ = len(labels_unique) - (1 if -1 in labels else 0)\n",
    "\n",
    "print('Bandwidth: ' , bandwidth)\n",
    "print(\"number of estimated clusters : %d\" % n_clusters_)\n",
    "print('Labels: ' , set(labels))"
   ]
  },
  {
   "cell_type": "markdown",
   "id": "6b8b5cce",
   "metadata": {},
   "source": [
    "Por ejemplo, reduciendo un poco el valor de `bandwith` obtenemos el resultado que nos gustaría a nosotros, seis clusters. "
   ]
  },
  {
   "cell_type": "markdown",
   "id": "5de648f3",
   "metadata": {},
   "source": [
    "Se podrían calcular algunas métricas para ver cómo de buenos son los clusters, pero para ello necesitaríamos las etiquetas. Además, ese no es el objetivo del primer apartado sino que el objetivo más bien es una primera aproximación a los datos para intentar descubrir posibles patrones."
   ]
  },
  {
   "cell_type": "code",
   "execution_count": null,
   "id": "cb5d7c43",
   "metadata": {},
   "outputs": [],
   "source": []
  }
 ],
 "metadata": {
  "kernelspec": {
   "display_name": "Python 3",
   "language": "python",
   "name": "python3"
  },
  "language_info": {
   "codemirror_mode": {
    "name": "ipython",
    "version": 3
   },
   "file_extension": ".py",
   "mimetype": "text/x-python",
   "name": "python",
   "nbconvert_exporter": "python",
   "pygments_lexer": "ipython3",
   "version": "3.8.8"
  }
 },
 "nbformat": 4,
 "nbformat_minor": 5
}
