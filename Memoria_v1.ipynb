{
 "cells": [
  {
   "cell_type": "markdown",
   "id": "dba6afe6",
   "metadata": {},
   "source": [
    "# TRABAJO FINAL DE LABORATORIO \n",
    "## TRABAJO A1 \n",
    "### Arturo Sirvent Fresneda y Ángel Guevara Ros"
   ]
  },
  {
   "cell_type": "markdown",
   "id": "e2220042",
   "metadata": {},
   "source": [
    "## OBJETIVO "
   ]
  },
  {
   "cell_type": "markdown",
   "id": "c60c2947",
   "metadata": {},
   "source": [
    "El propósito del trabajo es crear una aplicación de clasificación de eventos sonoros  partiendo de un conjunto de muestras etiquetadas con sus clases correspondientes. \n",
    "\n",
    "Este tipo de problemas se caracteriza por la alta dimensionalidad y variabilidad presente en las clases, así como en la dificultad de disponer de muestras convenientemente etiquetadas.\n",
    "\n",
    "Intentaremos abordar el problema tanto de forma supervisada como no supervisada, simulando que no se conocen algunas o todas las etiquetas del conjunto de datos."
   ]
  },
  {
   "cell_type": "markdown",
   "id": "af1c4ecf",
   "metadata": {},
   "source": [
    "## MÓDULOS"
   ]
  },
  {
   "cell_type": "code",
   "execution_count": 1,
   "id": "487558e9",
   "metadata": {},
   "outputs": [],
   "source": [
    "# módulos básicos\n",
    "import numpy as np\n",
    "import matplotlib.pyplot as plt\n",
    "import scipy\n",
    "import pandas as pd\n",
    "\n",
    "# módulos para manejar las muestras\n",
    "import librosa, librosa.display\n",
    "import IPython.display as ipd\n",
    "\n",
    "import sklearn \n",
    "\n",
    "# clustering\n",
    "from sklearn.cluster import KMeans, AgglomerativeClustering, MeanShift, estimate_bandwidth, DBSCAN\n",
    "from sklearn_extra.cluster import KMedoids\n",
    "from sklearn.mixture import GaussianMixture\n",
    "from scipy.cluster.hierarchy import linkage, dendrogram, fcluster\n",
    "\n",
    "# clasificación\n",
    "from sklearn.discriminant_analysis import LinearDiscriminantAnalysis\n",
    "from sklearn.tree import DecisionTreeClassifier ,plot_tree\n",
    "from sklearn.ensemble import RandomForestClassifier, BaggingClassifier, AdaBoostClassifier\n",
    "from sklearn.neural_network import MLPClassifier\n",
    "from sklearn.svm import SVC,LinearSVC\n",
    "\n",
    "from sklearn.neighbors import   NearestCentroid, \\\n",
    "                                KNeighborsClassifier, \\\n",
    "                                KernelDensity\n",
    "\n",
    "\n",
    "# métricas\n",
    "from sklearn.metrics import silhouette_samples, adjusted_rand_score, \\\n",
    "                            mutual_info_score, normalized_mutual_info_score, \\\n",
    "                            adjusted_mutual_info_score,  \\\n",
    "                            homogeneity_score, completeness_score, v_measure_score, \\\n",
    "                            fowlkes_mallows_score,silhouette_score, calinski_harabasz_score\n",
    "\n",
    "#crossval y parameter estimation\n",
    "from sklearn.model_selection import KFold,cross_validate, train_test_split, cross_val_score, \\\n",
    "                                    GridSearchCV\n",
    "\n",
    "# importancia de características\n",
    "from sklearn.inspection import permutation_importance\n",
    "\n",
    "\n"
   ]
  },
  {
   "cell_type": "markdown",
   "id": "4982c6e7",
   "metadata": {},
   "source": [
    "## FUNCIONES "
   ]
  },
  {
   "cell_type": "markdown",
   "id": "3c837165",
   "metadata": {},
   "source": [
    "En este apartado, definiremos diferentes funciones que vamos a usar a lo largo del trabajo."
   ]
  },
  {
   "cell_type": "code",
   "execution_count": 2,
   "id": "a0e4d695",
   "metadata": {},
   "outputs": [],
   "source": [
    "def transformacion_pca(data, srate, ncomp):\n",
    "    Xf = librosa.feature.mfcc(y=data[0,:],\n",
    "                        sr=srate,n_mfcc=20).flatten()    \n",
    "    for s in range(1,n):\n",
    "        Mfcc = librosa.feature.mfcc(y=data[s,:],\n",
    "                        sr=srate,n_mfcc=20).flatten()    \n",
    "        Xf = np.vstack([Xf,Mfcc])\n",
    "\n",
    "    pca = sklearn.decomposition.PCA(n_components=ncomp)    \n",
    "    pca.fit(Xf)\n",
    "    X = pca.transform(Xf)\n",
    "    return X,Xf\n"
   ]
  },
  {
   "cell_type": "code",
   "execution_count": 3,
   "id": "de2af4f6",
   "metadata": {},
   "outputs": [],
   "source": [
    "def plot_dendrogram(model, **kwargs):\n",
    "    # Create linkage matrix and then plot the dendrogram\n",
    "\n",
    "    # create the counts of samples under each node\n",
    "    counts = np.zeros(model.children_.shape[0])\n",
    "    n_samples = len(model.labels_)\n",
    "    for i, merge in enumerate(model.children_):\n",
    "        current_count = 0\n",
    "        for child_idx in merge:\n",
    "            if child_idx < n_samples:\n",
    "                current_count += 1  # leaf node\n",
    "            else:\n",
    "                current_count += counts[child_idx - n_samples]\n",
    "        counts[i] = current_count\n",
    "\n",
    "    linkage_matrix = np.column_stack(\n",
    "        [model.children_, model.distances_, counts]\n",
    "    ).astype(float)\n",
    "\n",
    "    # Plot the corresponding dendrogram\n",
    "    dendrogram(linkage_matrix, **kwargs)"
   ]
  },
  {
   "cell_type": "code",
   "execution_count": 4,
   "id": "7b07b2ed",
   "metadata": {},
   "outputs": [],
   "source": [
    "def reduccion(X,n,c,nc):\n",
    "    X_reduc=[]\n",
    "    y_reduc=np.int16(np.kron(np.arange(c),np.ones(nc//2)))\n",
    "\n",
    "    for i in range(0,n,nc):\n",
    "        k_means=KMeans(n_clusters=nc//2, random_state=0)\n",
    "        k_means.fit(X[i:(i+nc)])\n",
    "        centros=k_means.cluster_centers_\n",
    "        X_reduc.append(centros)\n",
    "    X_reduc=np.array(X_reduc).reshape((360,464))\n",
    "    return X_reduc, y_reduc"
   ]
  },
  {
   "cell_type": "markdown",
   "id": "742bba03",
   "metadata": {},
   "source": [
    "## PREPROCESADO DE DATOS"
   ]
  },
  {
   "cell_type": "markdown",
   "id": "38af063e",
   "metadata": {},
   "source": [
    "Aquí, importaremos y prepararemos los datos correspondientes a la tarea A1. Nuestros datos son señales de audio que contienen sonidos de animales. En particular, hay seis tipos de animales posibles y tendremos una cantidad balanceada de muestras de cada clase. \n",
    "\n",
    "A continuación, cargamos los datos y echamos un vistazo a las dimensiones de los mismos."
   ]
  },
  {
   "cell_type": "code",
   "execution_count": 5,
   "id": "2e544f4b",
   "metadata": {},
   "outputs": [
    {
     "name": "stdout",
     "output_type": "stream",
     "text": [
      "720 samples from 6 classes\n",
      "Raw dimension is 66150 corresponding to 3.0 seconds of audio\n"
     ]
    }
   ],
   "source": [
    "class_names = ['Dog', 'Rooster', 'Pig', 'Cow', 'Frog', 'Cat']\n",
    "srate = 22050        # frecuencia de muestreo\n",
    "c = len(class_names) # número de clases\n",
    "\n",
    "# cargamos los datos\n",
    "data = np.load('./adata1.npy')\n",
    "\n",
    "n,d = data.shape  # size and (raw) dimension\n",
    "nc = n//c         # samples per class\n",
    "\n",
    "print('%d samples from %d classes'%(n,c))\n",
    "print('Raw dimension is %d corresponding to %.1f seconds of audio'%(d,d/srate))\n",
    "\n",
    "# creamos las etiquetas\n",
    "labs = np.int16(np.kron(np.arange(c),np.ones(nc)))\n"
   ]
  },
  {
   "cell_type": "markdown",
   "id": "bc10fb10",
   "metadata": {},
   "source": [
    "Observamos que tenemos 720 muestras de cada una de las seis clases. Además cada muestra tienen un total de 66150 características que se obtienen de los tres segundos de duración de la señal de audio. \n",
    "\n",
    "Podemos escuchar una de las muestras para comprobar que existe cierto ruido en ellas que dificultará la clasificación. "
   ]
  },
  {
   "cell_type": "code",
   "execution_count": 6,
   "id": "350e80b9",
   "metadata": {},
   "outputs": [
    {
     "data": {
      "text/html": [
       "\n",
       "                <audio  controls=\"controls\" >\n",
       "                    <source src=\"data:audio/wav;base64,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\" type=\"audio/wav\" />\n",
       "                    Your browser does not support the audio element.\n",
       "                </audio>\n",
       "              "
      ],
      "text/plain": [
       "<IPython.lib.display.Audio object>"
      ]
     },
     "execution_count": 6,
     "metadata": {},
     "output_type": "execute_result"
    }
   ],
   "source": [
    "arow = np.random.randint(n)\n",
    "\n",
    "sig = data[arow,:]\n",
    "\n",
    "ipd.Audio(sig, rate=srate)"
   ]
  },
  {
   "cell_type": "markdown",
   "id": "624346fd",
   "metadata": {},
   "source": [
    "A la hora de trabajar con los datos, tenemos varias opciones: \n",
    "\n",
    "* Trabajar en el dominio temporal.\n",
    "\n",
    "* Usar Espectrogramas de Mel.  \n",
    "\n",
    "* Usar los Coeﬁcientes Cepstrales en las Frecuencias de Mel. \n",
    "\n",
    "Una vez elegido el espacio en el que queremos trabajar, es conveniente hacer una reducción de la dimensionalidad por PCA. \n",
    "\n",
    "En particular, nosotros hemos elegido trabajar con los Coeficientes Cepstrales en las Frecuencias de Mel. Una vez que hemos transformado nuestros datos a dicho espacio, llevamos a cabo una reducción de la dimensionalidad mediante PCA quedándonos con el 99% de las componentes. \n",
    "\n",
    "La elección de trabajar en este espacio se debe a que la reducción de características es notable y además no estamos perdiendo información importante. Este último aspecto se puede comprobar si tomamos por ejemplo un clasificador lineal y calculamos el acierto usando todas las características y luego usando las características reducidas. \n"
   ]
  },
  {
   "cell_type": "code",
   "execution_count": 7,
   "id": "9bda27de",
   "metadata": {
    "scrolled": true
   },
   "outputs": [
    {
     "name": "stdout",
     "output_type": "stream",
     "text": [
      "Dimension: 2600 -> 464\n",
      "Resub. acc of a linear class.: 0.93 -> 0.94\n"
     ]
    }
   ],
   "source": [
    "wc = LinearDiscriminantAnalysis()\n",
    "y = labs\n",
    "\n",
    "X, Xf = transformacion_pca(data,srate,ncomp=.99)   # Transformamos los datos al espacio nuevo y reducimos con PCA\n",
    "\n",
    "\n",
    "print('Dimension: %d -> %d'%(Xf.shape[1],X.shape[1])) \n",
    "print('Resub. acc of a linear class.: %.2f -> %.2f'%(wc.fit(Xf,y).score(Xf,y),wc.fit(X,y).score(X,y)))"
   ]
  },
  {
   "cell_type": "markdown",
   "id": "01d8c307",
   "metadata": {},
   "source": [
    "Como se puede observar, hemos reducido el número de características hasta 464 e incluso hemos mejorado el acierto utilizando un clasificador lineal. Por tanto, de aquí en adelante, trabajaremos con los datos transformados a dicho espacio."
   ]
  },
  {
   "cell_type": "markdown",
   "id": "9f469279",
   "metadata": {},
   "source": [
    "## CLUSTERING"
   ]
  },
  {
   "cell_type": "markdown",
   "id": "5b0aa6e4",
   "metadata": {},
   "source": [
    "En este apartado, nos planteamos un primer análisis de los datos. No usaremos las etiquetas y el objetivo será encontrar posibles patrones en nuestros datos y ver la compatibilidad con las etiquetas. \n",
    "\n",
    "Usaremos varios algoritmos de clustering para tener distintos puntos de vista. Para ver si los clusters son compatibles con las etiquetas reales del problema (que las conocemos), calcularemos algunas métricas como por ejemplo: \n",
    "\n",
    "* **Índice de Rand ajustado:** tiene en cuenta en lo que están de acuerdo y en lo que no están de acuerdo dos agrupamientos. Varía entre -1 y 1. Índices cercanos a cero quieren decir que son agrupamientos aleatorios.\n",
    "\n",
    "* **Medida V:** compara la homogeneidad y la completitud entre dos agrupamientos. Varía entre 0 y 1, siendo 1 un parecido idéntico.\n",
    "\n",
    "* **Índice de Silhouette:** nos da información sobre la dispersión de los clusters. Varía entre -1 y 1, y cuánto más grande sea, mejor será el agrupamiento hecho. Valores cercanos a cero indican solapamiento entre clusters."
   ]
  },
  {
   "cell_type": "markdown",
   "id": "11d0c00a",
   "metadata": {},
   "source": [
    "### Clustering Jerárquico Aglomerativo"
   ]
  },
  {
   "cell_type": "markdown",
   "id": "80064460",
   "metadata": {},
   "source": [
    "En este tipo de algoritmos, comenzamos con un cluster para cada muestra y vamos agrupando los dos clusters más parecidos en cada iteración hasta que llegamos a tener un único cluster para todo el conjunto de datos. Para caracterizar el parecido entre clusters, necesitamos la noción de distancia. \n",
    "\n",
    "El clustering aglomerativo es más popular que el divisivo debido a su eficiencia. Aún así, es un algoritmo costoso ya que en cada iteración tenemos que calcular la distancia con el nuevo cluster formado. \n",
    "\n",
    "La representación típica del clustering jerárquico es mediante dendrogramas, en los que en el eje X medimos la distancia entre clusters y en el eje Y la distancia entre puntos."
   ]
  },
  {
   "cell_type": "markdown",
   "id": "b3262746",
   "metadata": {},
   "source": [
    "A continuación, aplicamos un algoritmo de clustering aglomerativo a nuestro conjunto de datos. No le fijaremos el número de clusters para que me haga el proceso hasta el final. \n",
    "\n",
    "Una vez hecho el clustering, dibujaremos su dendrograma y lo comentaremos."
   ]
  },
  {
   "cell_type": "code",
   "execution_count": 8,
   "id": "7e6c3f75",
   "metadata": {},
   "outputs": [
    {
     "data": {
      "image/png": "[encoded data removed]",
      "text/plain": [
       "<Figure size 432x288 with 1 Axes>"
      ]
     },
     "metadata": {
      "needs_background": "light"
     },
     "output_type": "display_data"
    }
   ],
   "source": [
    "# Fijamos `distances_threshold=0` para que se calcule todo el árbol\n",
    "model = AgglomerativeClustering(distance_threshold=0, n_clusters=None, linkage='ward' )   \n",
    "\n",
    "# Lo entrenamos con nuestros datos\n",
    "model = model.fit(X)\n",
    "\n",
    "plt.title(\"Dendrograma del Clustering Jerárquico\")\n",
    "# fijando p=3 mostramos los tres primeros níveles del dendrograma.\n",
    "plot_dendrogram(model, truncate_mode=\"level\", p=3)  \n",
    "plt.xlabel(\"Número de puntos por nodo (o índice del punto si no hay paréntesis)\")\n",
    "plt.xticks(rotation = 45)\n",
    "plt.show()"
   ]
  },
  {
   "cell_type": "markdown",
   "id": "7cf28728",
   "metadata": {},
   "source": [
    "Como hemos dicho antes, en el eje Y está representada la distancia entre puntos. A nosotros nos va a interesar que está distancia sea suficientemente grande ya que eso indicará que la partición hecha es estable. En cambio, cuando veamos un salto pequeño en el eje Y, eso indicará que la partición no es tan estable. \n",
    "\n",
    "Así, observando el dendrograma podríamos tomar varias decisiones: \n",
    "\n",
    "* Por un lado, cortar por la línea horizontal de 5000. Esto nos daría tres clusters, dos de ellos balanceados y uno con menor número de muestras. Estos clusters están lo suficientemente alejados para afirmar que no tienen patrones en común con el resto. \n",
    "\n",
    "* Por otro lado, podríamos decidir cortar por la línea horizontal de 4000. Esto supondría que ahora tendríamos cinco clusters con menos muestras cada uno.\n",
    "\n",
    "* Por último, podríamos cortar por la línea horizontal de 3000, lo que nos daría una división en seis clusters.\n",
    "\n",
    "Cualquiera de las tres decisiones puede ser buena, sin embargo hay factores que nos hace decidirnos por una. Si nos fijamos en el final del dendrograma, tenemos que la unión entre los grupos (105) y (131) se hace muy arriba. Esto quiere decir que la distancia entre ambos grupos es grande y, por tanto podría tener sentido que fueran lo suficientemente diferentes. Así, podríamos descartar el agrupamiento en tres clusters. \n",
    "\n",
    "Ya solo nos quedarían el agrupamiento en cinco y en seis clusters. El factor decisivo en este caso es el número de elementos en cada grupo. Si nos quedamos con el de seis clusters, entonces tendríamos dos clusters (los de la izquierda) con muy pocos elementos en comparación con el resto de grupos. \n",
    "\n",
    "Por tanto, viendo el dendrograma nosotros diríamos que a priori puede haber cinco grupos distintos en nuestros datos. \n"
   ]
  },
  {
   "cell_type": "markdown",
   "id": "97f520da",
   "metadata": {},
   "source": [
    "Para comparar la información obtenida con las etiquetas reales del problema, lo que haremos será volver a hacer un clustering jerárquico pero ahora fijando el número de clusters a seis. Echaremos un vistazo a las etiquetas predichas y usaremos las métricas definidas para obtener algunos resultados cuantitativos. "
   ]
  },
  {
   "cell_type": "code",
   "execution_count": 78,
   "id": "929b48ba",
   "metadata": {},
   "outputs": [
    {
     "name": "stdout",
     "output_type": "stream",
     "text": [
      "Indice de Rand Ajustado: 0.15 \n",
      "Medida V: 0.26 \n",
      "Indice de Silhouette: 0.13 \n"
     ]
    }
   ],
   "source": [
    "model = AgglomerativeClustering(n_clusters=6, linkage='ward' )   \n",
    "\n",
    "model = model.fit(X)\n",
    "y_Aggl = model.labels_\n",
    "\n",
    "print('Indice de Rand Ajustado: %.2f '%adjusted_rand_score(y,y_Aggl))\n",
    "print('Medida V: %.2f '% v_measure_score(y,y_Aggl))\n",
    "print('Indice de Silhouette: %.2f '%silhouette_score(X, y_Aggl))"
   ]
  },
  {
   "cell_type": "markdown",
   "id": "7cd1ade7",
   "metadata": {},
   "source": [
    "Observamos que los resultados obtenidos no son muy buenos. El índice de Rand ajustado junto con la medida V nos dicen que no hay mucho parecido entre las etiquetas predichas y las reales. \n",
    "\n",
    "El índice de Silhouette confirma lo mismo que las otras medidas y además como es un valor cercano a cero, nos indica que puede existir solapamiento entre los diferentes clusters. \n",
    "\n",
    "El solapamiento entre clusters hace más complicado este primer análisis sin las etiquetas."
   ]
  },
  {
   "cell_type": "markdown",
   "id": "7e7cb93e",
   "metadata": {},
   "source": [
    "### Clustering basado en densidad. MeanShift"
   ]
  },
  {
   "cell_type": "markdown",
   "id": "fb1de2e4",
   "metadata": {},
   "source": [
    "En este tipo de métodos nos fijamos en la acumulación de puntos. Lo que buscamos son zonas densas dónde haya muchas muestras juntas y, dentro de las densas, nos interesarán las más densas posibles. \n",
    "\n",
    "Así, estos métodos consisten en elegir una región del espacio, calcular la media (o la moda) de los puntos que caigan dentro y moverme hacia ella. Con esto conseguimos movernos hacia una región más densa. Si repetimos esto de forma iterativa, acabaremos alcanzando la zona más densa de mi nube de puntos. \n",
    "\n",
    "Para seleccionar la región del espacio, se usan lo que se conoce como ventanas. Al mirar por la ventana lo que estamos haciendo es calcular la media ponderada de los puntos de esa región.\n",
    "\n",
    "Precisamente en esto consiste el algoritmo **Meanshift**. Este método nos asegura la convergencia hacia un punto estacionario. Los puntos del espacio que converjan al mismo centro, pertenecerán al mismo cluster. \n",
    "\n",
    "Cabe destacar, que el algoritmo **Meanshift** supone que hay una gradación de la densidad de nuestros puntos. Si esto no ocurre, el algoritmo no funcionará correctamente. "
   ]
  },
  {
   "cell_type": "markdown",
   "id": "f15b7371",
   "metadata": {},
   "source": [
    "Uno de los hiperparámetros del algoritmo **Meanshift** es la anchura de la ventana. Si cogemos una ventana muy grande, puede que estemos teniendo en cuenta puntos muy alejados a la hora de calcular la media y entonces ésta nos salga desvíada hacia una región poco densa. Si cogemos una anchura de ventana muy pequeña, el tiempo de computación puede aumentar considerablemente. \n",
    "\n",
    "Existe una función que nos permite estimar este parámetro y será la que utilicemos. "
   ]
  },
  {
   "cell_type": "code",
   "execution_count": 10,
   "id": "b72ada71",
   "metadata": {},
   "outputs": [
    {
     "name": "stdout",
     "output_type": "stream",
     "text": [
      "Estimated bandwidth=687.78\n"
     ]
    }
   ],
   "source": [
    "# Estimación de la anchura de ventana\n",
    "\n",
    "bandwidth = estimate_bandwidth(X, quantile=0.3,random_state=0)\n",
    "\n",
    "print(\"Estimated bandwidth=%.2f\"%bandwidth)"
   ]
  },
  {
   "cell_type": "markdown",
   "id": "8e2a87a9",
   "metadata": {},
   "source": [
    "Procedemos a utilizar el algoritmo **MeanShift**."
   ]
  },
  {
   "cell_type": "code",
   "execution_count": 12,
   "id": "59f2d04d",
   "metadata": {
    "scrolled": true
   },
   "outputs": [
    {
     "name": "stdout",
     "output_type": "stream",
     "text": [
      "Bandwidth:  687.7779513888889\n",
      "number of estimated clusters : 3\n",
      "Labels:  {0, 1, 2}\n"
     ]
    }
   ],
   "source": [
    "ms = MeanShift(bandwidth=bandwidth, bin_seeding=True, \n",
    "               cluster_all=True).fit(X)\n",
    "\n",
    "y_ms = ms.labels_\n",
    "cluster_centers = ms.cluster_centers_\n",
    "y_ms_unique = np.unique(y_ms)\n",
    "n_clusters_ = len(y_ms_unique ) - (1 if -1 in y_ms else 0)\n",
    "\n",
    "print('Bandwidth: ' , bandwidth)\n",
    "print(\"number of estimated clusters : %d\" % n_clusters_)\n",
    "print('Labels: ' , set(y_ms))"
   ]
  },
  {
   "cell_type": "markdown",
   "id": "edb45c21",
   "metadata": {},
   "source": [
    "Observamos que con la anchura de ventana estimada y nuestros datos, el resultado del MeanShift es que hay tres grupos solamente en nuestros datos. Sin embargo, nosotros sabemos que en realidad hay seis clusters correspondientes a cada una de las clases del problema, por lo que el resultado obtenido no es muy bueno. \n",
    "\n",
    "La respuesta que nos da el algoritmo MeanShift se puede deber a que existe solapamiento entre los clusters. Por tanto, no es capaz de distinguir seis regiones densas distintas, sino que esas zonas se entremezclan dando lugar a solo tres regiones. "
   ]
  },
  {
   "cell_type": "markdown",
   "id": "a5d5fd68",
   "metadata": {},
   "source": [
    "Para poder comparar de forma cuantitativa con las etiquetas reales del problema, vamos a jugar con el ancho de ventana para que el resultado del clustering sea de seis grupos. Por ejemplo, fijando `bandwidth=650` obtenemos dicho resultado."
   ]
  },
  {
   "cell_type": "code",
   "execution_count": 13,
   "id": "0b29dff0",
   "metadata": {},
   "outputs": [
    {
     "name": "stdout",
     "output_type": "stream",
     "text": [
      "Bandwidth:  650\n",
      "number of estimated clusters : 6\n",
      "Labels:  {0, 1, 2, 3, 4, 5}\n"
     ]
    }
   ],
   "source": [
    "bandwidth=650\n",
    "ms = MeanShift(bandwidth=bandwidth, bin_seeding=True, \n",
    "               cluster_all=True).fit(X)\n",
    "\n",
    "y_ms2 = ms.labels_\n",
    "cluster_centers2 = ms.cluster_centers_\n",
    "y_ms_unique2 = np.unique(y_ms2)\n",
    "n_clusters_2 = len(y_ms_unique2 ) - (1 if -1 in y_ms2 else 0)\n",
    "\n",
    "print('Bandwidth: ' , bandwidth)\n",
    "print(\"number of estimated clusters : %d\" % n_clusters_2)\n",
    "print('Labels: ' , set(y_ms2))"
   ]
  },
  {
   "cell_type": "markdown",
   "id": "cc1d1947",
   "metadata": {},
   "source": [
    "Para comparar con las etiquetas reales, usamos las mismas métricas que hemos presentado al inicio del apartado. "
   ]
  },
  {
   "cell_type": "code",
   "execution_count": 14,
   "id": "5a8961c8",
   "metadata": {},
   "outputs": [
    {
     "name": "stdout",
     "output_type": "stream",
     "text": [
      "Indice de Rand Ajustado: 0.01 \n",
      "Medida V: 0.11 \n",
      "Indice de Silhouette: 0.31 \n"
     ]
    }
   ],
   "source": [
    "print('Indice de Rand Ajustado: %.2f '%adjusted_rand_score(y,y_ms2))\n",
    "print('Medida V: %.2f '% v_measure_score(y,y_ms2))\n",
    "print('Indice de Silhouette: %.2f '%silhouette_score(X, y_ms2))"
   ]
  },
  {
   "cell_type": "markdown",
   "id": "d548d8dd",
   "metadata": {},
   "source": [
    "El índice de Rand ajustado y la medida V nos indican que hay poca similitud en general y en cuanto a homogeneidad y completitud. \n",
    "\n",
    "El índice de Silhouette sin embargo, es algo mayor pero tampoco es muy bueno. Se aleja un poco del cero, lo que quiere decir que no existe tanto solapamiento entre los clusters calculados.  \n",
    "\n",
    "Viendo las tres métricas calculadas, concluimos que tampoco es un clustering que sea compatible con las etiquetas reales."
   ]
  },
  {
   "cell_type": "markdown",
   "id": "198387d1",
   "metadata": {},
   "source": [
    "### Conclusiones"
   ]
  },
  {
   "cell_type": "markdown",
   "id": "5fef3a6c",
   "metadata": {},
   "source": [
    "Viendo los resultados de los dos algoritmos de clustering llevados a cabo, podemos concluir que éstos no son compatibles con las etiquetas reales en las que existen seis grupos de datos. Esto se puede deber a diversos factores: \n",
    "\n",
    "* Existencia de ruido en las muestras que dificulta la labor del agrupamiento. \n",
    "\n",
    "* Muestras que contengan atributos erróneos. \n",
    "\n",
    "* Solapamiento entre clusters. Probablemente producido por la cantidad de características de cada muestra que tenemos.\n",
    "\n",
    "Este último punto lo abordaremos más adelante en el trabajo. Por eso, cuando hagamos una selección de las características más importantes, reduciendo así la dimensión, volveremos a probar los algoritmos de clustering para ver si mejoran los resultados. "
   ]
  },
  {
   "cell_type": "markdown",
   "id": "4fd03bc4",
   "metadata": {},
   "source": [
    "## ALGORITMOS SUPERVISADOS"
   ]
  },
  {
   "cell_type": "code",
   "execution_count": null,
   "id": "a88e42b1",
   "metadata": {},
   "outputs": [],
   "source": []
  },
  {
   "cell_type": "code",
   "execution_count": null,
   "id": "7191636d",
   "metadata": {},
   "outputs": [],
   "source": []
  },
  {
   "cell_type": "markdown",
   "id": "e09b6091",
   "metadata": {},
   "source": [
    "## IMPORTANCIA DE CARACTERÍSTICAS"
   ]
  },
  {
   "cell_type": "markdown",
   "id": "14198fd4",
   "metadata": {},
   "source": [
    "En este apartado, vamos a utilizar clasificadores del tipo árboles de decisión para intentar predecir las etiquetas de nuestro conjunto de datos. Usaremos este tipo de clasificadores porque entre sus atributos se encuentra la importancia de características. \n",
    "\n",
    "La importancia de las características es una información muy útil porque nos permite saber qué características no son relevantes para nuestro modelo. \n",
    "\n",
    "Entonces haremos lo siguiente: \n",
    "\n",
    "* Primero usaremos el árbol de decisión con los mejores parámetros calculados en el apartado anterior. \n",
    "\n",
    "* Depués veremos cuáles son las características más importantes con el atributo `feature_importances_`. \n",
    "\n",
    "* Finalmente, eliminaremos todas aquellas características que tengan una importancia de cero. Nos quedaremos con el resto y volveremos a entrenar el árbol de decisión para ver si mejoran (o no empeoran los resultados). \n",
    "\n",
    "Cabe destacar que, en el caso de los árboles de decisión, la importancia de una caracaterística se calcula como la reducción total (normalizada) del criterio de división (normalemente la impureza de Gini) al dividir por dicha característica\n",
    "\n",
    "**Nota:** \n",
    "\n",
    "Si el clasificador que estamos usando no tiene directamente un atributo que nos de la importancia de las características, podemos usar la función `permutation_importance`. Esta implementación lo que hace es barajar una de las características y volver a entrenar el modelo con dicha característica permutada. Después comprueba si el rendimiento cambia mucho o no. Si cambia mucho, entonces diremos que esa variable es importante, y si cambia poco diremos que no lo es. Esto lo repite para cada una de las características y así nos ofrece un valor cuantitativo de la importancia de cada característica.\n",
    "\n",
    "También lo probaremos en este apartado usando máquinas de vector soporte."
   ]
  },
  {
   "cell_type": "markdown",
   "id": "12ce1798",
   "metadata": {},
   "source": [
    "### Árboles de decisión"
   ]
  },
  {
   "cell_type": "markdown",
   "id": "920d5e79",
   "metadata": {},
   "source": [
    "Así, vamos a calcular un \"ranking\" de características para nuestro árbol de decisión. \n",
    "\n",
    "Para ello, cogemos el árbol de decisión calculado en el apartado anterior y usamos el atributo de `feature_importances_` para ver la importancia de las características. Nos quedaremos con aquellas cuya importancia sea no nula."
   ]
  },
  {
   "cell_type": "code",
   "execution_count": 26,
   "id": "282f03fe",
   "metadata": {},
   "outputs": [],
   "source": [
    "X_reduc, y_reduc = reduccion(X,n,c,nc)   # Lo hacemos porque aún no está hecho en el apartado 2. Luego no hará falta. \n",
    "\n",
    "Xtr, Xts, ytr, yts = train_test_split(X_reduc, y_reduc, test_size=0.3, shuffle=True, random_state=0)"
   ]
  },
  {
   "cell_type": "code",
   "execution_count": 27,
   "id": "472b5b28",
   "metadata": {},
   "outputs": [
    {
     "data": {
      "text/plain": [
       "DecisionTreeClassifier(ccp_alpha=0.023015873015873003, random_state=0)"
      ]
     },
     "execution_count": 27,
     "metadata": {},
     "output_type": "execute_result"
    }
   ],
   "source": [
    "# El árbol que mejores resultados nos daba con nuestros datos.\n",
    "clf_tree = DecisionTreeClassifier(ccp_alpha=0.023015873015873003, random_state=0)\n",
    "clf_tree.fit(Xtr,ytr)"
   ]
  },
  {
   "cell_type": "markdown",
   "id": "c65c27bf",
   "metadata": {},
   "source": [
    "Calculamos una estimación del acierto en entrenamiento y en test mediante cross-validation. "
   ]
  },
  {
   "cell_type": "code",
   "execution_count": 35,
   "id": "974af3ad",
   "metadata": {
    "scrolled": true
   },
   "outputs": [
    {
     "name": "stdout",
     "output_type": "stream",
     "text": [
      "OA train 0.57\n",
      "OA test 0.59\n"
     ]
    }
   ],
   "source": [
    "print('OA train %0.2f' % np.mean(cross_val_score(clf_tree, Xtr, ytr, scoring='accuracy', cv=3)))\n",
    "print('OA test %0.2f' % np.mean(cross_val_score(clf_tree, Xts, yts, scoring='accuracy', cv=3)))"
   ]
  },
  {
   "cell_type": "markdown",
   "id": "214e2188",
   "metadata": {},
   "source": [
    "Cálculo de las importancias."
   ]
  },
  {
   "cell_type": "code",
   "execution_count": 62,
   "id": "fc153090",
   "metadata": {
    "scrolled": true
   },
   "outputs": [],
   "source": [
    "importancias=clf_tree.feature_importances_\n",
    "# print(importancias)           descomentar para ver el resultado exacto de la importancia de cada característica.      "
   ]
  },
  {
   "cell_type": "markdown",
   "id": "56ed2da8",
   "metadata": {},
   "source": [
    "Selección de características."
   ]
  },
  {
   "cell_type": "code",
   "execution_count": 52,
   "id": "90b07ff3",
   "metadata": {},
   "outputs": [
    {
     "name": "stdout",
     "output_type": "stream",
     "text": [
      "(360, 1, 5)\n",
      "(360, 5)\n"
     ]
    }
   ],
   "source": [
    "indices=np.where(importancias!=0)\n",
    "X_reduc2=X_reduc[:,indices]\n",
    "print(X_reduc2.shape)\n",
    "X_reduc2= X_reduc2.reshape((360,5))\n",
    "print(X_reduc2.shape)"
   ]
  },
  {
   "cell_type": "code",
   "execution_count": 53,
   "id": "63e1fe17",
   "metadata": {},
   "outputs": [
    {
     "data": {
      "text/plain": [
       "(array([ 0,  1,  3,  5, 11], dtype=int64),)"
      ]
     },
     "execution_count": 53,
     "metadata": {},
     "output_type": "execute_result"
    }
   ],
   "source": [
    "indices   # Características seleccionadas"
   ]
  },
  {
   "cell_type": "markdown",
   "id": "be088eaa",
   "metadata": {},
   "source": [
    "Tras calcular la importancia de las características, observamos que tan solo hay cinco cuya importancia sea no nula. Por tanto, nos quedamos solo con esas características y volvemos a evaluar el rendimiento del clasificador."
   ]
  },
  {
   "cell_type": "code",
   "execution_count": 30,
   "id": "5e4a4deb",
   "metadata": {},
   "outputs": [
    {
     "data": {
      "text/plain": [
       "DecisionTreeClassifier(ccp_alpha=0.023015873015873003, random_state=0)"
      ]
     },
     "execution_count": 30,
     "metadata": {},
     "output_type": "execute_result"
    }
   ],
   "source": [
    "Xtr, Xts, ytr, yts = train_test_split(X_reduc2, y_reduc, test_size=0.3, shuffle=True, random_state=0)\n",
    "\n",
    "# El árbol que mejores resultados nos daba con nuestros datos.\n",
    "clf_tree = DecisionTreeClassifier(ccp_alpha=0.023015873015873003, random_state=0)\n",
    "clf_tree.fit(Xtr,ytr)"
   ]
  },
  {
   "cell_type": "code",
   "execution_count": 34,
   "id": "8f46d903",
   "metadata": {},
   "outputs": [
    {
     "name": "stdout",
     "output_type": "stream",
     "text": [
      "OA train 0.57\n",
      "OA test 0.59\n"
     ]
    }
   ],
   "source": [
    "print('OA train %0.2f' % np.mean(cross_val_score(clf_tree, Xtr, ytr, scoring='accuracy', cv=3)))\n",
    "print('OA test %0.2f' % np.mean(cross_val_score(clf_tree, Xts, yts, scoring='accuracy', cv=3)))"
   ]
  },
  {
   "cell_type": "markdown",
   "id": "e96f1385",
   "metadata": {},
   "source": [
    "Observamos que tras eliminar la gran mayoría de las características, los aciertos en test y en entrenamiento no han cambiado. Esto se debe a que tan solo había unas pocas características relevantes para nuestro árbol de clasificación que son las que estaban tomando realmente las decisiones. El resto de atributos no participaba."
   ]
  },
  {
   "cell_type": "markdown",
   "id": "edab88ec",
   "metadata": {},
   "source": [
    "### SVM"
   ]
  },
  {
   "cell_type": "markdown",
   "id": "1e480919",
   "metadata": {},
   "source": [
    "Vamos a hacer también una selección de características para el caso en el que estamos clasificando con una máquina de vector soporte. Lo separamos del caso anterior porque las características que son importantes para un método puede que no lo sean para otro. \n",
    "\n",
    "De hecho, el clasificador de las máquinas de vector soporte (SVC) no tiene un atributo como tal que nos dé la importancia de las características, sino que tenemos que usar una función auxiliar (Ver nota). \n",
    "\n",
    "Así, cogemos de nuevo el SVC con los parámetros óptimos calculado en el apartado anterior y trabajamos sobre él."
   ]
  },
  {
   "cell_type": "code",
   "execution_count": 40,
   "id": "8eff509e",
   "metadata": {},
   "outputs": [
    {
     "name": "stdout",
     "output_type": "stream",
     "text": [
      "OA train 0.76\n",
      "OA test 0.69\n"
     ]
    }
   ],
   "source": [
    "X_reduc, y_reduc = reduccion(X,n,c,nc)   # Lo hacemos porque aún no está hecho en el apartado 2. Luego no hará falta. \n",
    "\n",
    "Xtr, Xts, ytr, yts = train_test_split(X_reduc, y_reduc, test_size=0.3, shuffle=True, random_state=0)\n",
    "\n",
    "clf_svc = SVC(C=100.0, gamma=5.994842503189409e-07)\n",
    "clf_svc.fit(Xtr,ytr)\n",
    "\n",
    "\n",
    "print('OA train %0.2f' % np.mean(cross_val_score(clf_svc, Xtr, ytr, scoring='accuracy', cv=5)))\n",
    "print('OA test %0.2f' % np.mean(cross_val_score(clf_svc, Xts, yts, scoring='accuracy', cv=5)))"
   ]
  },
  {
   "cell_type": "markdown",
   "id": "c9bf63f1",
   "metadata": {},
   "source": [
    "Los resultados no son malos. Calculamos la importancia de las características usando  `permutation_importance` y nos quedamos solo con las relevantes. Volvemos a evaluar el modelo para ver si mejora (o no empeora)."
   ]
  },
  {
   "cell_type": "code",
   "execution_count": 42,
   "id": "d647d1e3",
   "metadata": {},
   "outputs": [],
   "source": [
    "resultado = permutation_importance(clf_svc, X_reduc, y_reduc,scoring='accuracy', n_repeats=5, random_state=0)"
   ]
  },
  {
   "cell_type": "code",
   "execution_count": 64,
   "id": "1fec4047",
   "metadata": {},
   "outputs": [],
   "source": [
    "importancias_svc = resultado.importances_mean\n",
    "#importancias_svc  #descomentar para ver los valores exactos de importancia de cada característica."
   ]
  },
  {
   "cell_type": "markdown",
   "id": "22e737e3",
   "metadata": {},
   "source": [
    "Selección de características."
   ]
  },
  {
   "cell_type": "code",
   "execution_count": 59,
   "id": "ff02f2bf",
   "metadata": {},
   "outputs": [
    {
     "name": "stdout",
     "output_type": "stream",
     "text": [
      "(360, 1, 7)\n",
      "(360, 7)\n"
     ]
    }
   ],
   "source": [
    "indices2=np.where(importancias_svc > abs(1e-2))\n",
    "X_reduc3=X_reduc[:,indices2]\n",
    "print(X_reduc3.shape)\n",
    "X_reduc3= X_reduc3.reshape((360,7))\n",
    "print(X_reduc3.shape)"
   ]
  },
  {
   "cell_type": "code",
   "execution_count": 60,
   "id": "cbfd15ae",
   "metadata": {},
   "outputs": [
    {
     "data": {
      "text/plain": [
       "(array([ 0,  1,  2,  3,  4,  5, 11], dtype=int64),)"
      ]
     },
     "execution_count": 60,
     "metadata": {},
     "output_type": "execute_result"
    }
   ],
   "source": [
    "indices2  # Las mismas características seleccionadas que con el atributo de los árboles + dos adicionales (2 y 4)."
   ]
  },
  {
   "cell_type": "markdown",
   "id": "eb7fa230",
   "metadata": {},
   "source": [
    "Una vez hecha la selección de las características más importantes, volvemos a entrenar el modelo con dichas características. Una vez entrenado, calculamos la estimación de aciertos para ver si no empeora con respecto al modelo con todas las características."
   ]
  },
  {
   "cell_type": "code",
   "execution_count": 58,
   "id": "fa0dd707",
   "metadata": {},
   "outputs": [
    {
     "name": "stdout",
     "output_type": "stream",
     "text": [
      "OA train 0.73\n",
      "OA test 0.71\n"
     ]
    }
   ],
   "source": [
    "Xtr, Xts, ytr, yts = train_test_split(X_reduc3, y_reduc, test_size=0.3, shuffle=True, random_state=0)\n",
    "\n",
    "clf_svc = SVC(C=100.0, gamma=5.994842503189409e-07)\n",
    "clf_svc.fit(Xtr,ytr)\n",
    "\n",
    "\n",
    "print('OA train %0.2f' % np.mean(cross_val_score(clf_svc, Xtr, ytr, scoring='accuracy', cv=5)))\n",
    "print('OA test %0.2f' % np.mean(cross_val_score(clf_svc, Xts, yts, scoring='accuracy', cv=5)))"
   ]
  },
  {
   "cell_type": "markdown",
   "id": "a6689ae7",
   "metadata": {},
   "source": [
    "Es sorprendente que al eliminar características, los resultados en test incluso mejoran. Es cierto que en entrenamiento baja un poco el acierto, pero no es preocupante. Además, a nosotros nos interesa que en test vaya bien para que el modelo sea capaz de generalizar. \n",
    "\n",
    "La mejora del acierto en test se puede deber a que los datos pueden contener atributos con valores erróneos, o que tengan poca relevancia en el resultado de la clasificación. Por tanto, al eliminarlos estamos quitando la posibilidad de entrenar con valores erróneos al modelo.\n",
    "\n",
    "Cabe destacar también que los aciertos están bastante balanceados, por lo que no debemos preocuparnos por el sobre ajuste."
   ]
  },
  {
   "cell_type": "markdown",
   "id": "63ec1427",
   "metadata": {},
   "source": [
    "### Clustering"
   ]
  },
  {
   "cell_type": "markdown",
   "id": "11d51e15",
   "metadata": {},
   "source": [
    "Como comentamos en el apartado de clustering, una vez hecha la reducción de características puede ser interesante volver a realizar algún algoritmo de clustering para ver si los resultados mejoran al haber menos dimensiones. \n",
    "\n",
    "Así, aquí simplemente repetimos lo hecho anteriormente pero sobre el conjunto que contiene solo las características importantes."
   ]
  },
  {
   "cell_type": "markdown",
   "id": "5cc2a7e0",
   "metadata": {},
   "source": [
    "#### Clustering Jerárquico Aglomerativo"
   ]
  },
  {
   "cell_type": "markdown",
   "id": "31e30ef6",
   "metadata": {},
   "source": [
    "Volvemos a hacer clustering aglomerativo imponiendo que me calcule seis clusters. Además, calculamos los mismo índices que en el primer apartado para comparar con las etiquetas reales y ver si ha habido una mejora significativa."
   ]
  },
  {
   "cell_type": "code",
   "execution_count": 73,
   "id": "ce5b5716",
   "metadata": {},
   "outputs": [
    {
     "name": "stdout",
     "output_type": "stream",
     "text": [
      "Indice de Rand Ajustado: 0.12 \n",
      "Medida V: 0.28 \n",
      "Indice de Silhouette: 0.26 \n"
     ]
    }
   ],
   "source": [
    "model = AgglomerativeClustering(n_clusters=6, linkage='ward' )   \n",
    "\n",
    "model = model.fit(X_reduc2)\n",
    "y_Aggl2 = model.labels_\n",
    "\n",
    "print('Indice de Rand Ajustado: %.2f '%adjusted_rand_score(y_reduc,y_Aggl2))\n",
    "print('Medida V: %.2f '% v_measure_score(y_reduc,y_Aggl2))\n",
    "print('Indice de Silhouette: %.2f '%silhouette_score(X_reduc2, y_Aggl2))"
   ]
  },
  {
   "cell_type": "markdown",
   "id": "7516a4b5",
   "metadata": {},
   "source": [
    "A la vista de los resultados, no parece que haya mejorado mucho el resultado del clustering. Por tanto, parece que la dimensionalidad en este caso no era tan importante. \n",
    "\n",
    "Que los resultados no hayan cambiado mucho puede deberse a que las características más importantes siguen estando solapadas entre sí, lo que dificulta mucho la labor de buscar patrones y establecer grupos."
   ]
  },
  {
   "cell_type": "markdown",
   "id": "9a56c0b4",
   "metadata": {},
   "source": [
    "#### MeanShift"
   ]
  },
  {
   "cell_type": "markdown",
   "id": "6e2c8dff",
   "metadata": {},
   "source": [
    "Comprobamos si con el clustering basado en densidad conseguimos mejorar los resultados."
   ]
  },
  {
   "cell_type": "code",
   "execution_count": 76,
   "id": "8ea48432",
   "metadata": {},
   "outputs": [
    {
     "name": "stdout",
     "output_type": "stream",
     "text": [
      "Estimated bandwidth=412.18\n",
      "Bandwidth:  412.18088024408564\n",
      "number of estimated clusters : 1\n",
      "Labels:  {0}\n"
     ]
    }
   ],
   "source": [
    "# Estimación de la anchura de ventana\n",
    "\n",
    "bandwidth = estimate_bandwidth(X_reduc2, quantile=0.3,random_state=0)\n",
    "\n",
    "print(\"Estimated bandwidth=%.2f\"%bandwidth)\n",
    "\n",
    "ms = MeanShift(bandwidth=bandwidth, bin_seeding=True, \n",
    "               cluster_all=True).fit(X_reduc2)\n",
    "\n",
    "y_ms = ms.labels_\n",
    "cluster_centers = ms.cluster_centers_\n",
    "y_ms_unique = np.unique(y_ms)\n",
    "n_clusters_ = len(y_ms_unique ) - (1 if -1 in y_ms else 0)\n",
    "\n",
    "print('Bandwidth: ' , bandwidth)\n",
    "print(\"number of estimated clusters : %d\" % n_clusters_)\n",
    "print('Labels: ' , set(y_ms))"
   ]
  },
  {
   "cell_type": "markdown",
   "id": "a6ba7a03",
   "metadata": {},
   "source": [
    "Volvemos a ver que el resultado del clustering no mejora y, en este caso, empeora la predicción de grupos con los parámetros estimados. \n",
    "\n",
    "Justamente en los algoritmos de clustering basados en densidad, puede que eliminar características no sea la mejor idea porque estamos eliminando muestras de nuestra nube de puntos. Por tanto, estamos quitando densidad a las regiones. Esta puede ser la razón por la que tras eliminar las características poco relevantes, el resultado sea que solo hay un cluster.\n",
    "\n",
    "Cabe destacar también que al tener menos datos habría que ajustar un poco los parámetros de la función que nos estima el ancho de banda. En particular, el argumento `quantile`habría que disminuirlo un poco. "
   ]
  },
  {
   "cell_type": "markdown",
   "id": "138163ea",
   "metadata": {},
   "source": [
    "## ENSEMBLES"
   ]
  },
  {
   "cell_type": "code",
   "execution_count": null,
   "id": "1a362c40",
   "metadata": {},
   "outputs": [],
   "source": []
  },
  {
   "cell_type": "code",
   "execution_count": null,
   "id": "a1801747",
   "metadata": {},
   "outputs": [],
   "source": []
  }
 ],
 "metadata": {
  "kernelspec": {
   "display_name": "Python 3 (ipykernel)",
   "language": "python",
   "name": "python3"
  },
  "language_info": {
   "codemirror_mode": {
    "name": "ipython",
    "version": 3
   },
   "file_extension": ".py",
   "mimetype": "text/x-python",
   "name": "python",
   "nbconvert_exporter": "python",
   "pygments_lexer": "ipython3",
   "version": "3.8.11"
  }
 },
 "nbformat": 4,
 "nbformat_minor": 5
}
