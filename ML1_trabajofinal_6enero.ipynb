{
 "cells": [
  {
   "cell_type": "markdown",
   "id": "224ef58f",
   "metadata": {},
   "source": [
    "Primero cargamos los datos que ya hemos procesado con PCA. (hemos caracterizado audios en una dimensionalidad mas baja)"
   ]
  },
  {
   "cell_type": "code",
   "execution_count": 34,
   "id": "a289f6d3",
   "metadata": {},
   "outputs": [],
   "source": [
    "#cargar librerias y datos\n",
    "\n",
    "#lo basico\n",
    "import numpy as np \n",
    "import matplotlib.pyplot as plt\n",
    "import scipy\n",
    "import pandas as pd\n",
    "\n",
    "\n",
    "#clustering\n",
    "from sklearn.cluster import KMeans, MeanShift, DBSCAN\n",
    "from sklearn_extra.cluster import KMedoids\n",
    "\n",
    "#supervisado\n",
    "from sklearn.tree import DecisionTreeClassifier ,plot_tree\n",
    "from sklearn.ensemble import RandomForestClassifier, BaggingClassifier, AdaBoostClassifier\n",
    "from sklearn.neural_network import MLPClassifier\n",
    "from sklearn.svm import SVC,LinearSVC\n",
    "\n",
    "#crossval y parameter estimation\n",
    "from sklearn.model_selection import KFold,cross_validate, train_test_split, cross_val_score, \\\n",
    "                                    GridSearchCV\n",
    "\n",
    "#metricas y preprocesado y tal\n",
    "from sklearn.preprocessing import StandardScaler,MinMaxScaler,MaxAbsScaler\n",
    "from sklearn.metrics import confusion_matrix, accuracy_score,roc_auc_score,cohen_kappa_score,f1_score, \\\n",
    "                            precision_score,recall_score,make_scorer\n",
    "\n",
    "\n",
    "#miscelanea\n",
    "from sklearn.utils import shuffle\n"
   ]
  },
  {
   "cell_type": "code",
   "execution_count": 2,
   "id": "35ba2a77",
   "metadata": {},
   "outputs": [],
   "source": [
    "#carga de los datos ya seleccionados mediante un algoritmo PCA\n",
    "X=np.load(\"datos_mfcc_pca99_X.npy\")\n",
    "y=np.load(\"datos_mfcc_pca99_y.npy\")"
   ]
  },
  {
   "cell_type": "markdown",
   "id": "b186f812",
   "metadata": {},
   "source": [
    "# Algoritmos de clustering\n",
    "\n",
    "Primero intento los algoritmos clasicos de clustering:  \n",
    "\n",
    "\n",
    "\n",
    "Luego como veremos, no dan muy buenos resultados en la agrupacion de clases, esto puede explicarse en parte por la alta dimensionalidad que tiene el espacio en el que estamos realizando las agrupaciones, y quizá considerando menos dimensiones (las más importantes o relevantes), o haciendo una segund reduccion de la dimensionalidad, así seamos capaces de que ls algoritmos de clustering logren algo.\n"
   ]
  },
  {
   "cell_type": "code",
   "execution_count": null,
   "id": "ff516e2d",
   "metadata": {},
   "outputs": [],
   "source": []
  },
  {
   "cell_type": "code",
   "execution_count": null,
   "id": "f0d39491",
   "metadata": {},
   "outputs": [],
   "source": []
  },
  {
   "cell_type": "markdown",
   "id": "e4d6871b",
   "metadata": {},
   "source": [
    "# Algoritmos supervisados  \n",
    "Para esta tarea se nos indica que realizemos una selección de 50% pero ateníendonos a que sean representantes de cada uno de los grupos. Esto es muy indicado sobretodo para el caso de los métodos kernel, pues los datos de entrenamiento serán usados para calcular similitudes y nos gustaría que estos fueran lo más represetantes de su clase como fuera posible.  \n",
    "Vamos a buscar con k-means tantos representantes en una clase como queramos.  "
   ]
  },
  {
   "cell_type": "code",
   "execution_count": 54,
   "id": "9aa0406c",
   "metadata": {},
   "outputs": [],
   "source": [
    "#vamos a ir guardando en un dataframe los resultados que obtenemos de los diferentes algoritmos\n",
    "resultados=pd.DataFrame(columns=[\"Algoritmo\",\"Using_reduction\",\"Accuracy_train\",\"Accuracy_test\",\n",
    "                                 \"Accuracy_kfold\",\"Precision_test\",\"Precision_kfold\",\"Recall_test\",\"Recall_kfold\",\n",
    "                                 \"cohen-kappa_train\",\"cohen-kappa_test\",\n",
    "                                 \"f1_test\",\"f1_kfold\",\"roc-auc_test\"])"
   ]
  },
  {
   "cell_type": "code",
   "execution_count": 76,
   "id": "2f4960c3",
   "metadata": {},
   "outputs": [],
   "source": [
    "def train_and_get_stats(model,X,y,X_train,y_train,X_test,y_test,cv=5,train=False):\n",
    "    #vamos a hacer una funcion que nos reciba el modelo, los datos y algunos parametros más, y nos evalue todo esto\n",
    "    #asi nos lo devuelve y ya lo tenemos para meterlo en el dataframe\n",
    "\n",
    "    #esta funcion va a tomar el modelo, lo va a entrenar y va a darnos las metricas,\n",
    "    #pero no va a hacer nada sobre la busqueda de parametros optimos\n",
    "    \n",
    "    \n",
    "    #calculamos en train y test de forma normal con los conjuntos train y test\n",
    "    if train:\n",
    "        model.fit(X_train,y_train)\n",
    "    y_pred_train=model.predict(X_train)\n",
    "    y_pred_test=model.predict(X_test)\n",
    "    \n",
    "    #calculamos las metricas que nos hacen falta\n",
    "    aux1=pd.Series({\"Accuracy_train\":accuracy_score(y_train,y_pred_train),\n",
    "                      \"Accuracy_test\":accuracy_score(y_test,y_pred_test),\n",
    "                      \"Precision_test\":precision_score(y_test,y_pred_test,average=\"micro\"),\n",
    "                      \"Recall_test\":recall_score(y_test,y_pred_test,average=\"micro\"),\n",
    "                      \"cohen-kappa_train\":cohen_kappa_score(y_train,y_pred_train),\n",
    "                      \"cohen-kappa_test\":cohen_kappa_score(y_test,y_pred_test),\n",
    "                      \"f1_test\":f1_score(y_test,y_pred_test,average=\"micro\")})\n",
    "                      #\"roc-auc_test\":roc_auc_score(y_test,y_pred_test)})\n",
    "\n",
    "    \n",
    "    #Tambien vamos a usar cross validation para obtener una estimacion más correcta de los parametros\n",
    "    prec = make_scorer(precision_score,greater_is_better=True, average=\"micro\")\n",
    "    recall = make_scorer(recall_score,greater_is_better=True, average=\"micro\")\n",
    "    f1 = make_scorer(f1_score,greater_is_better=True, average=\"micro\")\n",
    "\n",
    "\n",
    "    metrics_aux=cross_validate(model, X,y,cv=cv,\n",
    "                               scoring={\"accuracy\":\"accuracy\",\"precision\":prec,\n",
    "                                        \"recall\":recall,\"f1\":f1},\n",
    "                               return_train_score=False)\n",
    "    #obtenemos un diccionario y listas de las estadisticas para cada una de las evaluaciones en los k folds\n",
    "    #ahora para guardarlos hacemos la media de estas\n",
    "    \n",
    "    aux2=pd.Series({\"Accuracy_kfold\":np.mean(metrics_aux[\"test_accuracy\"]),\n",
    "                                \"Precision_kfold\":np.mean(metrics_aux[\"test_precision\"]),\n",
    "                                \"Recall_kfold\":np.mean(metrics_aux[\"test_recall\"]),\n",
    "                                \"f1_kfold\":np.mean(metrics_aux[\"test_f1\"])})\n",
    "\n",
    "    return pd.concat([aux1,aux2])\n",
    "\n",
    "    \n",
    "#def optimal_params_completa():\n",
    "    #esta funcion usará una lista de parametros para hacer mediante grid search una busqueda de\n",
    "    #los mejores parametros\n",
    "    \n",
    "    #la estrategia para la busqueda de hyperparametros será una búsqueda inicial mediante \n",
    "    #una busqueda aleatoria y una consecuente busqueda en grid por los mejores valores anteriores, \n",
    "    #donde ya apuntamos un poco más\n",
    "    \n",
    "    \n",
    "    \n",
    "\n",
    "    \n",
    "    "
   ]
  },
  {
   "cell_type": "code",
   "execution_count": 6,
   "id": "68ef581e",
   "metadata": {},
   "outputs": [],
   "source": [
    "#hacemos el conjunto de datos reducido donde solo seleccionamos el 50% de los puntos como\n",
    "#representantes del conjunto \n",
    "\n",
    "clases=np.unique(y).shape[0]\n",
    "\n",
    "X_reduc=[]\n",
    "y_reduc=[]\n",
    "\n",
    "for i in range(clases):\n",
    "    len_aux=len(y[y==i])\n",
    "    model=KMedoids(n_clusters=len_aux//2)\n",
    "    model.fit(X[y==i])  \n",
    "    centros=model.cluster_centers_\n",
    "    X_reduc.append(centros)\n",
    "    y_reduc.extend(np.ones(len(centros))*i)\n",
    "X_reduc=np.array(X_reduc)\n",
    "y_reduc=np.array(y_reduc)\n",
    "X_reduc2=X_reduc.reshape(-1,464)"
   ]
  },
  {
   "cell_type": "code",
   "execution_count": 7,
   "id": "cfd89417",
   "metadata": {},
   "outputs": [
    {
     "data": {
      "text/plain": [
       "(360,)"
      ]
     },
     "execution_count": 7,
     "metadata": {},
     "output_type": "execute_result"
    }
   ],
   "source": [
    "y_reduc.shape"
   ]
  },
  {
   "cell_type": "code",
   "execution_count": 8,
   "id": "2b089fbb",
   "metadata": {},
   "outputs": [],
   "source": [
    "#separamos los datos en conjuntos para entrenamiento y para test\n",
    "#lo hacemos tanto para el conjunto completo como  para el reducido por representantes\n",
    "X_train,X_test,y_train,y_test=train_test_split(X,y,test_size=0.2,random_state=42)\n",
    "X_reduc_train,X_reduc_test,y_reduc_train,y_reduc_test=train_test_split(X_reduc2,y_reduc,\n",
    "                                                                       test_size=0.2,random_state=42)"
   ]
  },
  {
   "cell_type": "code",
   "execution_count": 9,
   "id": "12d0b35d",
   "metadata": {},
   "outputs": [],
   "source": [
    "#hacemos shuffle a los datos originales por si los quisieramos usar mas adelante \n",
    "X,y=shuffle(X,y,random_state=42)"
   ]
  },
  {
   "cell_type": "markdown",
   "id": "2b107d4e",
   "metadata": {},
   "source": [
    "### Preprocesamos los datos para normalizarlos o algo? \n",
    "\n",
    "Standar Scaler??"
   ]
  },
  {
   "cell_type": "markdown",
   "id": "b853e040",
   "metadata": {},
   "source": [
    "### Arboles\n",
    "\n",
    "No veo motivo para limitar aqui el conjunto de entrenamiento, pero vamos a probar con lo dos.  \n",
    "\n",
    "También podemos hacer pre-prunning (lo normal), y post-prunning\n",
    "\n"
   ]
  },
  {
   "cell_type": "code",
   "execution_count": 151,
   "id": "e0785faf",
   "metadata": {},
   "outputs": [
    {
     "data": {
      "image/png": "[encoded data removed]",
      "text/plain": [
       "<Figure size 432x288 with 1 Axes>"
      ]
     },
     "metadata": {
      "needs_background": "light"
     },
     "output_type": "display_data"
    }
   ],
   "source": [
    "\n",
    "model1=DecisionTreeClassifier()\n",
    "model1.fit(X_train,y_train)\n",
    "plot_tree(model1);"
   ]
  },
  {
   "cell_type": "code",
   "execution_count": 152,
   "id": "f1d26cb9",
   "metadata": {},
   "outputs": [
    {
     "data": {
      "text/plain": [
       "array([[ 6,  1,  1,  2,  3,  2],\n",
       "       [ 0,  9,  2,  1,  2,  4],\n",
       "       [ 5,  2,  7,  5,  0,  2],\n",
       "       [ 1,  5,  5,  8,  1,  0],\n",
       "       [ 0,  1,  1,  2, 10,  0],\n",
       "       [ 4,  5,  0,  2,  4,  5]])"
      ]
     },
     "execution_count": 152,
     "metadata": {},
     "output_type": "execute_result"
    }
   ],
   "source": [
    "y_pred=model1.predict(X_test)\n",
    "confusion_matrix(y_test,y_pred)\n"
   ]
  },
  {
   "cell_type": "code",
   "execution_count": 153,
   "id": "1351e943",
   "metadata": {},
   "outputs": [
    {
     "data": {
      "text/plain": [
       "[<matplotlib.lines.Line2D at 0x7f7d6777c0a0>]"
      ]
     },
     "execution_count": 153,
     "metadata": {},
     "output_type": "execute_result"
    },
    {
     "data": {
      "image/png": "[encoded data removed]",
      "text/plain": [
       "<Figure size 432x288 with 1 Axes>"
      ]
     },
     "metadata": {
      "needs_background": "light"
     },
     "output_type": "display_data"
    }
   ],
   "source": [
    "#ahroa vamos a probar a hacerle el post-prunning\n",
    "acc_train_list=[]\n",
    "acc_test_list=[]\n",
    "depths=list(range(1,101))\n",
    "for i in depths:\n",
    "    model=DecisionTreeClassifier(max_depth=i)\n",
    "    model.fit(X_train,y_train)\n",
    "    y_pred_1=model.predict(X_train)\n",
    "    acc_train_list.append(accuracy_score(y_train,y_pred_1))\n",
    "    y_pred_2=model.predict(X_test)\n",
    "    acc_test_list.append(accuracy_score(y_test,y_pred_2))\n",
    "\n",
    "\n",
    "plt.plot(depths,acc_train_list,\"r--\")\n",
    "plt.plot(depths,acc_test_list,\"b\")"
   ]
  },
  {
   "cell_type": "code",
   "execution_count": 154,
   "id": "c92ea4ea",
   "metadata": {},
   "outputs": [],
   "source": [
    "model=DecisionTreeClassifier(max_depth=100)\n",
    "aux=model.cost_complexity_pruning_path(X_train,y_train)\n",
    "ccp,imps=aux.ccp_alphas, aux.impurities"
   ]
  },
  {
   "cell_type": "code",
   "execution_count": 155,
   "id": "d307b88b",
   "metadata": {},
   "outputs": [],
   "source": [
    "\n",
    "acc_train_list_pruned=[]\n",
    "acc_test_list_pruned=[]\n",
    "node_counts=[]\n",
    "for i in ccp:\n",
    "    model=DecisionTreeClassifier(ccp_alpha=i)\n",
    "    model.fit(X_train,y_train)\n",
    "    y_pred_1=model.predict(X_train)\n",
    "    node_counts.append(model.get_depth())\n",
    "    acc_train_list_pruned.append(accuracy_score(y_train,y_pred_1))\n",
    "    y_pred_2=model.predict(X_test)\n",
    "\n",
    "    acc_test_list_pruned.append(accuracy_score(y_test,y_pred_2))\n"
   ]
  },
  {
   "cell_type": "code",
   "execution_count": 156,
   "id": "1655e1a2",
   "metadata": {},
   "outputs": [
    {
     "data": {
      "text/plain": [
       "[<matplotlib.lines.Line2D at 0x7f7d67dc8d00>]"
      ]
     },
     "execution_count": 156,
     "metadata": {},
     "output_type": "execute_result"
    },
    {
     "data": {
      "image/png": "[encoded data removed]",
      "text/plain": [
       "<Figure size 432x288 with 1 Axes>"
      ]
     },
     "metadata": {
      "needs_background": "light"
     },
     "output_type": "display_data"
    }
   ],
   "source": [
    "plt.plot(node_counts,acc_test_list_pruned,\"b\")\n",
    "plt.plot(node_counts,acc_train_list_pruned,\"r--\")"
   ]
  },
  {
   "cell_type": "markdown",
   "id": "ba361c89",
   "metadata": {},
   "source": [
    "Podemos probar con solo los puntos representativos de los clusteres, pero eso no da mejores resultado, ya lo he intentado."
   ]
  },
  {
   "cell_type": "markdown",
   "id": "afb6f239",
   "metadata": {},
   "source": [
    "### Random forest"
   ]
  },
  {
   "cell_type": "code",
   "execution_count": 166,
   "id": "b17601d5",
   "metadata": {},
   "outputs": [
    {
     "data": {
      "text/plain": [
       "RandomForestClassifier(max_depth=7, n_estimators=1000)"
      ]
     },
     "execution_count": 166,
     "metadata": {},
     "output_type": "execute_result"
    }
   ],
   "source": [
    "model=RandomForestClassifier(1000,max_depth=7)\n",
    "model.fit(X_train,y_train)"
   ]
  },
  {
   "cell_type": "code",
   "execution_count": 167,
   "id": "a012013b",
   "metadata": {},
   "outputs": [
    {
     "name": "stdout",
     "output_type": "stream",
     "text": [
      "0.9484126984126984 0.6157407407407407\n"
     ]
    }
   ],
   "source": [
    "y_pred1=model.predict(X_train)\n",
    "y_pred2=model.predict(X_test)\n",
    "print(accuracy_score(y_train,y_pred1),accuracy_score(y_test,y_pred2))"
   ]
  },
  {
   "cell_type": "code",
   "execution_count": 180,
   "id": "ca5858d7",
   "metadata": {
    "scrolled": true
   },
   "outputs": [],
   "source": [
    "model=RandomForestClassifier(1000,max_depth=7)\n",
    "a=cross_validate(model,X,y,scoring=[\"accuracy\"],cv=5)"
   ]
  },
  {
   "cell_type": "code",
   "execution_count": 189,
   "id": "61f1f71a",
   "metadata": {},
   "outputs": [
    {
     "data": {
      "text/plain": [
       "0.6555555555555556"
      ]
     },
     "execution_count": 189,
     "metadata": {},
     "output_type": "execute_result"
    }
   ],
   "source": [
    "a[\"test_accuracy\"].mean()"
   ]
  },
  {
   "cell_type": "markdown",
   "id": "6ee5f4c2",
   "metadata": {},
   "source": [
    "Aqui podriamos hacer gridsearch y tal"
   ]
  },
  {
   "cell_type": "markdown",
   "id": "4a4f7bcc",
   "metadata": {},
   "source": [
    "### Redes neuronales"
   ]
  },
  {
   "cell_type": "code",
   "execution_count": 209,
   "id": "956b3920",
   "metadata": {},
   "outputs": [
    {
     "data": {
      "text/plain": [
       "{'fit_time': array([1.03077722, 1.1708622 , 0.98245239, 1.63729954, 0.87973714]),\n",
       " 'score_time': array([0.00079393, 0.00080156, 0.00078583, 0.00085974, 0.00077128]),\n",
       " 'test_accuracy': array([0.52083333, 0.54166667, 0.50694444, 0.50694444, 0.47916667]),\n",
       " 'train_accuracy': array([0.96180556, 0.93923611, 0.98263889, 0.87673611, 0.96701389])}"
      ]
     },
     "execution_count": 209,
     "metadata": {},
     "output_type": "execute_result"
    }
   ],
   "source": [
    "\n",
    "model=MLPClassifier(hidden_layer_sizes=[100,10],learning_rate=\"adaptive\",learning_rate_init=0.004,max_iter=1000)\n",
    "aux=cross_validate(model,X,y,scoring=[\"accuracy\"],cv=5,return_train_score=True)\n",
    "aux"
   ]
  },
  {
   "cell_type": "markdown",
   "id": "43a2ce7e",
   "metadata": {},
   "source": [
    "### SVM"
   ]
  },
  {
   "cell_type": "code",
   "execution_count": 231,
   "id": "9b805199",
   "metadata": {},
   "outputs": [
    {
     "data": {
      "text/plain": [
       "{'fit_time': array([0.02615619, 0.01765418, 0.01693678, 0.01718783, 0.01654029]),\n",
       " 'score_time': array([0.01315546, 0.00729942, 0.00710082, 0.00712657, 0.00719333]),\n",
       " 'test_accuracy': array([0.56944444, 0.58333333, 0.625     , 0.56944444, 0.52777778]),\n",
       " 'train_accuracy': array([0.8125    , 0.79513889, 0.78472222, 0.8125    , 0.80208333])}"
      ]
     },
     "execution_count": 231,
     "metadata": {},
     "output_type": "execute_result"
    }
   ],
   "source": [
    "#a=MinMaxScaler()\n",
    "#X_norm=a.fit_transform(X)\n",
    "\n",
    "\n",
    "model=SVC()\n",
    "aux=cross_validate(model,X_reduc2,y_reduc,scoring=[\"accuracy\"],cv=5,return_train_score=True)\n",
    "aux"
   ]
  },
  {
   "cell_type": "code",
   "execution_count": 240,
   "id": "00c12026",
   "metadata": {},
   "outputs": [
    {
     "data": {
      "text/plain": [
       "[<matplotlib.lines.Line2D at 0x7f7d66599c70>]"
      ]
     },
     "execution_count": 240,
     "metadata": {},
     "output_type": "execute_result"
    },
    {
     "data": {
      "image/png": "[encoded data removed]",
      "text/plain": [
       "<Figure size 432x288 with 1 Axes>"
      ]
     },
     "metadata": {
      "needs_background": "light"
     },
     "output_type": "display_data"
    }
   ],
   "source": [
    "n=100\n",
    "plt.plot(np.logspace(-7,7,n),list(range(n)))"
   ]
  },
  {
   "cell_type": "markdown",
   "id": "bc710d9a",
   "metadata": {},
   "source": [
    "## Busqueda iterativa de los mejores modelos etc"
   ]
  },
  {
   "cell_type": "code",
   "execution_count": 47,
   "id": "4a42f80a",
   "metadata": {},
   "outputs": [
    {
     "data": {
      "text/plain": [
       "GridSearchCV(estimator=DecisionTreeClassifier(),\n",
       "             param_grid={'criterion': ['gini', 'entropy'],\n",
       "                         'max_depth': array([ 2,  6, 10, 14, 18, 22, 26, 30, 34, 38, 42, 46])})"
      ]
     },
     "execution_count": 47,
     "metadata": {},
     "output_type": "execute_result"
    }
   ],
   "source": [
    "#para arboles\n",
    "\n",
    "#gridserach\n",
    "tree_params={\"criterion\":[\"gini\",\"entropy\"],\"max_depth\":np.arange(2,50,4)}\n",
    "\n",
    "#lo evaluamos \n",
    "\n",
    "model_tree=DecisionTreeClassifier()\n",
    "\n",
    "tree_best=GridSearchCV(model_tree,tree_params)\n",
    "tree_best.fit(X_train,y_train)\n",
    "\n"
   ]
  },
  {
   "cell_type": "code",
   "execution_count": 48,
   "id": "1b776c98",
   "metadata": {},
   "outputs": [
    {
     "name": "stdout",
     "output_type": "stream",
     "text": [
      "0.4808395802098951 {'criterion': 'entropy', 'max_depth': 6}\n"
     ]
    }
   ],
   "source": [
    "print(tree_best.best_score_, tree_best.best_params_)"
   ]
  },
  {
   "cell_type": "code",
   "execution_count": 52,
   "id": "956ba7f2",
   "metadata": {},
   "outputs": [
    {
     "data": {
      "text/plain": [
       "GridSearchCV(estimator=RandomForestClassifier(),\n",
       "             param_grid={'criterion': ['gini', 'entropy'],\n",
       "                         'max_depth': [5, 10, 30],\n",
       "                         'n_estimators': array([40])})"
      ]
     },
     "execution_count": 52,
     "metadata": {},
     "output_type": "execute_result"
    }
   ],
   "source": [
    "#para random forests\n",
    "\n",
    "#grid\n",
    "\n",
    "forest_params={\"n_estimators\":np.arange(40,100,2000),\"criterion\":[\"gini\",\"entropy\"],\"max_depth\":[2,3,5,10,30]}\n",
    "\n",
    "model_forest=RandomForestClassifier()\n",
    "forest_best=GridSearchCV(model_forest,forest_params)\n",
    "forest_best.fit(X_train,y_train)\n",
    "\n"
   ]
  },
  {
   "cell_type": "code",
   "execution_count": 53,
   "id": "4f851c85",
   "metadata": {},
   "outputs": [
    {
     "name": "stdout",
     "output_type": "stream",
     "text": [
      "0.5329385307346326 {'criterion': 'gini', 'max_depth': 5, 'n_estimators': 40}\n"
     ]
    }
   ],
   "source": [
    "print(forest_best.best_score_, forest_best.best_params_)"
   ]
  },
  {
   "cell_type": "code",
   "execution_count": 64,
   "id": "5ed8415b",
   "metadata": {},
   "outputs": [
    {
     "data": {
      "text/plain": [
       "GridSearchCV(estimator=BaggingClassifier(),\n",
       "             param_grid={'base_estimator': [MLPClassifier(hidden_layer_sizes=40),\n",
       "                                            SVC(), DecisionTreeClassifier()],\n",
       "                         'n_estimators': [10, 40]})"
      ]
     },
     "execution_count": 64,
     "metadata": {},
     "output_type": "execute_result"
    }
   ],
   "source": [
    "#para bagging\n",
    "\n",
    "bagging_params={\"base_estimator\":[MLPClassifier(40),SVC(),DecisionTreeClassifier()],\"n_estimators\":[40,60]}\n",
    "model_bagging=BaggingClassifier()\n",
    "bagging_best=GridSearchCV(model_bagging,bagging_params)\n",
    "bagging_best.fit(X_reduc_train,y_reduc_train)\n",
    "\n"
   ]
  },
  {
   "cell_type": "code",
   "execution_count": 67,
   "id": "928304b7",
   "metadata": {},
   "outputs": [
    {
     "name": "stdout",
     "output_type": "stream",
     "text": [
      "0.621113127646703 {'base_estimator': SVC(), 'n_estimators': 40}\n"
     ]
    }
   ],
   "source": [
    "print(bagging_best.best_score_, bagging_best.best_params_)"
   ]
  },
  {
   "cell_type": "code",
   "execution_count": 59,
   "id": "5cd36b3a",
   "metadata": {},
   "outputs": [
    {
     "data": {
      "text/plain": [
       "GridSearchCV(estimator=SVC(),\n",
       "             param_grid={'C': array([0.1, 0.2, 0.3, 0.4, 0.5, 0.6, 0.7, 0.8, 0.9, 1. , 1.1, 1.2, 1.3,\n",
       "       1.4, 1.5, 1.6, 1.7, 1.8, 1.9, 2. ]),\n",
       "                         'degree': [2, 3, 4, 5], 'kernel': ['rbf', 'poly']})"
      ]
     },
     "execution_count": 59,
     "metadata": {},
     "output_type": "execute_result"
    }
   ],
   "source": [
    "#para SVM\n",
    "\n",
    "svm_params={\"C\":np.linspace(0.1,2,20),\"kernel\":[\"rbf\",\"poly\"],\"degree\":[2,3,4,5]}\n",
    "\n",
    "\n",
    "model_svm=SVC()\n",
    "svm_best=GridSearchCV(model_svm,svm_params)\n",
    "svm_best.fit(X_reduc_train,y_reduc_train)\n"
   ]
  },
  {
   "cell_type": "code",
   "execution_count": 60,
   "id": "67742381",
   "metadata": {},
   "outputs": [
    {
     "name": "stdout",
     "output_type": "stream",
     "text": [
      "0.6141560798548095 {'C': 1.5, 'degree': 2, 'kernel': 'rbf'}\n"
     ]
    }
   ],
   "source": [
    "print(svm_best.best_score_, svm_best.best_params_)"
   ]
  },
  {
   "cell_type": "code",
   "execution_count": 45,
   "id": "b45ea40e",
   "metadata": {},
   "outputs": [
    {
     "name": "stderr",
     "output_type": "stream",
     "text": [
      "/home/arturo/anaconda3/envs/env1/lib/python3.8/site-packages/sklearn/model_selection/_validation.py:372: FitFailedWarning: \n",
      "200 fits failed out of a total of 400.\n",
      "The score on these train-test partitions for these parameters will be set to nan.\n",
      "If these failures are not expected, you can try to debug them by setting error_score='raise'.\n",
      "\n",
      "Below are more details about the failures:\n",
      "--------------------------------------------------------------------------------\n",
      "200 fits failed with the following error:\n",
      "Traceback (most recent call last):\n",
      "  File \"/home/arturo/anaconda3/envs/env1/lib/python3.8/site-packages/sklearn/model_selection/_validation.py\", line 681, in _fit_and_score\n",
      "    estimator.fit(X_train, y_train, **fit_params)\n",
      "  File \"/home/arturo/anaconda3/envs/env1/lib/python3.8/site-packages/sklearn/ensemble/_weight_boosting.py\", line 486, in fit\n",
      "    return super().fit(X, y, sample_weight)\n",
      "  File \"/home/arturo/anaconda3/envs/env1/lib/python3.8/site-packages/sklearn/ensemble/_weight_boosting.py\", line 132, in fit\n",
      "    self._validate_estimator()\n",
      "  File \"/home/arturo/anaconda3/envs/env1/lib/python3.8/site-packages/sklearn/ensemble/_weight_boosting.py\", line 495, in _validate_estimator\n",
      "    raise TypeError(\n",
      "TypeError: AdaBoostClassifier with algorithm='SAMME.R' requires that the weak learner supports the calculation of class probabilities with a predict_proba method.\n",
      "Please change the base estimator or set algorithm='SAMME' instead.\n",
      "\n",
      "  warnings.warn(some_fits_failed_message, FitFailedWarning)\n",
      "/home/arturo/anaconda3/envs/env1/lib/python3.8/site-packages/sklearn/model_selection/_search.py:969: UserWarning: One or more of the test scores are non-finite: [       nan        nan        nan        nan        nan        nan\n",
      "        nan        nan        nan        nan        nan        nan\n",
      "        nan        nan        nan        nan        nan        nan\n",
      "        nan        nan        nan        nan        nan        nan\n",
      "        nan        nan        nan        nan        nan        nan\n",
      "        nan        nan        nan        nan        nan        nan\n",
      "        nan        nan        nan        nan 0.43236882 0.4305997\n",
      " 0.43053973 0.43757121 0.43236882 0.4358021  0.40631184 0.41842579\n",
      " 0.41497751 0.42707646 0.3976012  0.42370315 0.43583208 0.42710645\n",
      " 0.43233883 0.42715142 0.41496252 0.42886057 0.43584708 0.41146927\n",
      " 0.4201949  0.42023988 0.4097901  0.42548726 0.41841079 0.41842579\n",
      " 0.4201949  0.4183958  0.4150075  0.41497751 0.4271964  0.43236882\n",
      " 0.42365817 0.41671664 0.42193403 0.41845577 0.44271364 0.42712144\n",
      " 0.44451274 0.43755622]\n",
      "  warnings.warn(\n"
     ]
    },
    {
     "data": {
      "text/plain": [
       "GridSearchCV(estimator=AdaBoostClassifier(),\n",
       "             param_grid={'base_estimator': [SVC(), DecisionTreeClassifier()],\n",
       "                         'learning_rate': array([2.51188643e+00, 8.14912747e+00, 2.64376119e+01, 8.57695899e+01,\n",
       "       2.78255940e+02, 9.02725178e+02, 2.92864456e+03, 9.50118507e+03,\n",
       "       3.08239924e+04, 1.00000000e+05]),\n",
       "                         'n_estimators': [50, 70, 100, 140]})"
      ]
     },
     "execution_count": 45,
     "metadata": {},
     "output_type": "execute_result"
    }
   ],
   "source": [
    "#AdaBoost\n",
    "\n",
    "ada_params={\"base_estimator\":[SVC(),DecisionTreeClassifier()],\n",
    "                 \"n_estimators\":[50,70,100,140],\"learning_rate\":np.logspace(0.4,5,10)}\n",
    "\n",
    "\n",
    "model_ada=AdaBoostClassifier()\n",
    "ada_best=GridSearchCV(model_ada,ada_params)\n",
    "ada_best.fit(X_reduc_train,y_reduc_train)\n",
    "\n"
   ]
  },
  {
   "cell_type": "code",
   "execution_count": null,
   "id": "63e322cd",
   "metadata": {},
   "outputs": [],
   "source": [
    "print(ada_best.best_score_, ada_best.best_params_)"
   ]
  },
  {
   "cell_type": "code",
   "execution_count": 39,
   "id": "2790c054",
   "metadata": {
    "scrolled": true
   },
   "outputs": [
    {
     "name": "stderr",
     "output_type": "stream",
     "text": [
      "/home/arturo/anaconda3/envs/env1/lib/python3.8/site-packages/sklearn/neural_network/_multilayer_perceptron.py:692: ConvergenceWarning: Stochastic Optimizer: Maximum iterations (500) reached and the optimization hasn't converged yet.\n",
      "  warnings.warn(\n",
      "/home/arturo/anaconda3/envs/env1/lib/python3.8/site-packages/sklearn/neural_network/_multilayer_perceptron.py:692: ConvergenceWarning: Stochastic Optimizer: Maximum iterations (500) reached and the optimization hasn't converged yet.\n",
      "  warnings.warn(\n",
      "/home/arturo/anaconda3/envs/env1/lib/python3.8/site-packages/sklearn/neural_network/_multilayer_perceptron.py:692: ConvergenceWarning: Stochastic Optimizer: Maximum iterations (500) reached and the optimization hasn't converged yet.\n",
      "  warnings.warn(\n",
      "/home/arturo/anaconda3/envs/env1/lib/python3.8/site-packages/sklearn/neural_network/_multilayer_perceptron.py:692: ConvergenceWarning: Stochastic Optimizer: Maximum iterations (500) reached and the optimization hasn't converged yet.\n",
      "  warnings.warn(\n",
      "/home/arturo/anaconda3/envs/env1/lib/python3.8/site-packages/sklearn/neural_network/_multilayer_perceptron.py:692: ConvergenceWarning: Stochastic Optimizer: Maximum iterations (500) reached and the optimization hasn't converged yet.\n",
      "  warnings.warn(\n",
      "/home/arturo/anaconda3/envs/env1/lib/python3.8/site-packages/sklearn/neural_network/_multilayer_perceptron.py:692: ConvergenceWarning: Stochastic Optimizer: Maximum iterations (500) reached and the optimization hasn't converged yet.\n",
      "  warnings.warn(\n",
      "/home/arturo/anaconda3/envs/env1/lib/python3.8/site-packages/sklearn/neural_network/_multilayer_perceptron.py:692: ConvergenceWarning: Stochastic Optimizer: Maximum iterations (500) reached and the optimization hasn't converged yet.\n",
      "  warnings.warn(\n",
      "/home/arturo/anaconda3/envs/env1/lib/python3.8/site-packages/sklearn/neural_network/_multilayer_perceptron.py:692: ConvergenceWarning: Stochastic Optimizer: Maximum iterations (500) reached and the optimization hasn't converged yet.\n",
      "  warnings.warn(\n",
      "/home/arturo/anaconda3/envs/env1/lib/python3.8/site-packages/sklearn/neural_network/_multilayer_perceptron.py:692: ConvergenceWarning: Stochastic Optimizer: Maximum iterations (500) reached and the optimization hasn't converged yet.\n",
      "  warnings.warn(\n",
      "/home/arturo/anaconda3/envs/env1/lib/python3.8/site-packages/sklearn/neural_network/_multilayer_perceptron.py:692: ConvergenceWarning: Stochastic Optimizer: Maximum iterations (500) reached and the optimization hasn't converged yet.\n",
      "  warnings.warn(\n",
      "/home/arturo/anaconda3/envs/env1/lib/python3.8/site-packages/sklearn/neural_network/_multilayer_perceptron.py:692: ConvergenceWarning: Stochastic Optimizer: Maximum iterations (500) reached and the optimization hasn't converged yet.\n",
      "  warnings.warn(\n",
      "/home/arturo/anaconda3/envs/env1/lib/python3.8/site-packages/sklearn/neural_network/_multilayer_perceptron.py:692: ConvergenceWarning: Stochastic Optimizer: Maximum iterations (500) reached and the optimization hasn't converged yet.\n",
      "  warnings.warn(\n",
      "/home/arturo/anaconda3/envs/env1/lib/python3.8/site-packages/sklearn/neural_network/_multilayer_perceptron.py:692: ConvergenceWarning: Stochastic Optimizer: Maximum iterations (500) reached and the optimization hasn't converged yet.\n",
      "  warnings.warn(\n",
      "/home/arturo/anaconda3/envs/env1/lib/python3.8/site-packages/sklearn/neural_network/_multilayer_perceptron.py:692: ConvergenceWarning: Stochastic Optimizer: Maximum iterations (500) reached and the optimization hasn't converged yet.\n",
      "  warnings.warn(\n",
      "/home/arturo/anaconda3/envs/env1/lib/python3.8/site-packages/sklearn/neural_network/_multilayer_perceptron.py:692: ConvergenceWarning: Stochastic Optimizer: Maximum iterations (500) reached and the optimization hasn't converged yet.\n",
      "  warnings.warn(\n",
      "/home/arturo/anaconda3/envs/env1/lib/python3.8/site-packages/sklearn/neural_network/_multilayer_perceptron.py:692: ConvergenceWarning: Stochastic Optimizer: Maximum iterations (500) reached and the optimization hasn't converged yet.\n",
      "  warnings.warn(\n",
      "/home/arturo/anaconda3/envs/env1/lib/python3.8/site-packages/sklearn/neural_network/_multilayer_perceptron.py:692: ConvergenceWarning: Stochastic Optimizer: Maximum iterations (500) reached and the optimization hasn't converged yet.\n",
      "  warnings.warn(\n",
      "/home/arturo/anaconda3/envs/env1/lib/python3.8/site-packages/sklearn/model_selection/_validation.py:372: FitFailedWarning: \n",
      "100 fits failed out of a total of 200.\n",
      "The score on these train-test partitions for these parameters will be set to nan.\n",
      "If these failures are not expected, you can try to debug them by setting error_score='raise'.\n",
      "\n",
      "Below are more details about the failures:\n",
      "--------------------------------------------------------------------------------\n",
      "100 fits failed with the following error:\n",
      "Traceback (most recent call last):\n",
      "  File \"/home/arturo/anaconda3/envs/env1/lib/python3.8/site-packages/sklearn/model_selection/_validation.py\", line 681, in _fit_and_score\n",
      "    estimator.fit(X_train, y_train, **fit_params)\n",
      "  File \"/home/arturo/anaconda3/envs/env1/lib/python3.8/site-packages/sklearn/neural_network/_multilayer_perceptron.py\", line 752, in fit\n",
      "    return self._fit(X, y, incremental=False)\n",
      "  File \"/home/arturo/anaconda3/envs/env1/lib/python3.8/site-packages/sklearn/neural_network/_multilayer_perceptron.py\", line 384, in _fit\n",
      "    self._validate_hyperparameters()\n",
      "  File \"/home/arturo/anaconda3/envs/env1/lib/python3.8/site-packages/sklearn/neural_network/_multilayer_perceptron.py\", line 498, in _validate_hyperparameters\n",
      "    raise ValueError(\"learning rate %s is not supported. \" % self.learning_rate)\n",
      "ValueError: learning rate adaptative is not supported. \n",
      "\n",
      "  warnings.warn(some_fits_failed_message, FitFailedWarning)\n",
      "/home/arturo/anaconda3/envs/env1/lib/python3.8/site-packages/sklearn/model_selection/_search.py:969: UserWarning: One or more of the test scores are non-finite: [0.38376312 0.48787106 0.31941529 0.27427286        nan        nan\n",
      "        nan        nan 0.4217991  0.55374813 0.31424288 0.52949025\n",
      "        nan        nan        nan        nan 0.38352324 0.42706147\n",
      " 0.30562219 0.47038981        nan        nan        nan        nan\n",
      " 0.32814093 0.46362819 0.29178411 0.48781109        nan        nan\n",
      "        nan        nan 0.35058471 0.42358321 0.28293853 0.41508246\n",
      "        nan        nan        nan        nan]\n",
      "  warnings.warn(\n"
     ]
    },
    {
     "data": {
      "text/plain": [
       "GridSearchCV(estimator=MLPClassifier(max_iter=500),\n",
       "             param_grid={'hidden_layer_sizes': [(100, 20), 100, (20, 20), 10,\n",
       "                                                (20, 20, 20)],\n",
       "                         'learning_rate': ['constant', 'adaptative'],\n",
       "                         'learning_rate_init': [0.001, 0.005, 0.0001, 0.04]})"
      ]
     },
     "execution_count": 39,
     "metadata": {},
     "output_type": "execute_result"
    }
   ],
   "source": [
    "#NNs\n",
    "\n",
    "mlp_params={\"hidden_layer_sizes\":[(100,20),(100),(20,20),(10),(20,20,20)],\n",
    "            \"learning_rate\":[\"constant\",\"adaptative\"],\"learning_rate_init\":[0.001,0.005,0.0001,0.04]}\n",
    "\n",
    "\n",
    "model_mlp=MLPClassifier(max_iter=500)\n",
    "mlp_best=GridSearchCV(model_mlp,mlp_params)\n",
    "mlp_best.fit(X_train,y_train)\n"
   ]
  },
  {
   "cell_type": "code",
   "execution_count": 66,
   "id": "4f3a0fec",
   "metadata": {},
   "outputs": [
    {
     "name": "stdout",
     "output_type": "stream",
     "text": [
      "0.5537481259370315 {'hidden_layer_sizes': 100, 'learning_rate': 'constant', 'learning_rate_init': 0.005}\n"
     ]
    }
   ],
   "source": [
    "print(mlp_best.best_score_, mlp_best.best_params_)"
   ]
  },
  {
   "cell_type": "markdown",
   "id": "6db4cbd4",
   "metadata": {},
   "source": [
    "Ahora hacemos una tabla resumen de los resultados:"
   ]
  },
  {
   "cell_type": "code",
   "execution_count": 69,
   "id": "2620e1dc",
   "metadata": {},
   "outputs": [],
   "source": [
    "a=svm_best.best_estimator_"
   ]
  },
  {
   "cell_type": "code",
   "execution_count": 84,
   "id": "437ff055",
   "metadata": {},
   "outputs": [],
   "source": [
    "resultados=pd.DataFrame(columns=[\"Algoritmo\",\"Using_reduction\",\"best_params\",\"Accuracy_train\",\"Accuracy_test\",\n",
    "                                 \"Accuracy_kfold\",\"Precision_test\",\"Precision_kfold\",\"Recall_test\",\"Recall_kfold\",\n",
    "                                 \"cohen-kappa_train\",\"cohen-kappa_test\",\n",
    "                                 \"f1_test\",\"f1_kfold\"])\n",
    "names=[\"Tree\",\"SVC\",\"Forest\",\"MLP\",\"Adaboost\",\"Bagging\"]\n",
    "reduction_list=[\"F\",\"T\",\"F\",\"F\",\"T\",\"T\"]\n",
    "\n",
    "for i,j in enumerate([tree_best,svm_best,forest_best,\n",
    "                    mlp_best,ada_best,bagging_best]):\n",
    "    aux_series=train_and_get_stats(j.best_estimator_,X,y,X_train,y_train,X_test,y_test,cv=5)\n",
    "    aux_series=aux_series.append(pd.Series({\"Algoritmo\":names[i],\"Using_reduction\":reduction_list[i],\n",
    "                                            \"best_params\":j.best_params_}))\n",
    "    resultados=resultados.append(aux_series,ignore_index=True)"
   ]
  },
  {
   "cell_type": "code",
   "execution_count": 85,
   "id": "9221c606",
   "metadata": {},
   "outputs": [
    {
     "data": {
      "text/html": [
       "<div>\n",
       "<style scoped>\n",
       "    .dataframe tbody tr th:only-of-type {\n",
       "        vertical-align: middle;\n",
       "    }\n",
       "\n",
       "    .dataframe tbody tr th {\n",
       "        vertical-align: top;\n",
       "    }\n",
       "\n",
       "    .dataframe thead th {\n",
       "        text-align: right;\n",
       "    }\n",
       "</style>\n",
       "<table border=\"1\" class=\"dataframe\">\n",
       "  <thead>\n",
       "    <tr style=\"text-align: right;\">\n",
       "      <th></th>\n",
       "      <th>Algoritmo</th>\n",
       "      <th>Using_reduction</th>\n",
       "      <th>best_params</th>\n",
       "      <th>Accuracy_train</th>\n",
       "      <th>Accuracy_test</th>\n",
       "      <th>Accuracy_kfold</th>\n",
       "      <th>Precision_test</th>\n",
       "      <th>Precision_kfold</th>\n",
       "      <th>Recall_test</th>\n",
       "      <th>Recall_kfold</th>\n",
       "      <th>cohen-kappa_train</th>\n",
       "      <th>cohen-kappa_test</th>\n",
       "      <th>f1_test</th>\n",
       "      <th>f1_kfold</th>\n",
       "    </tr>\n",
       "  </thead>\n",
       "  <tbody>\n",
       "    <tr>\n",
       "      <th>0</th>\n",
       "      <td>Tree</td>\n",
       "      <td>F</td>\n",
       "      <td>{'criterion': 'entropy', 'max_depth': 6}</td>\n",
       "      <td>0.746528</td>\n",
       "      <td>0.479167</td>\n",
       "      <td>0.463889</td>\n",
       "      <td>0.479167</td>\n",
       "      <td>0.463889</td>\n",
       "      <td>0.479167</td>\n",
       "      <td>0.463889</td>\n",
       "      <td>0.695374</td>\n",
       "      <td>0.380236</td>\n",
       "      <td>0.479167</td>\n",
       "      <td>0.463889</td>\n",
       "    </tr>\n",
       "    <tr>\n",
       "      <th>1</th>\n",
       "      <td>SVC</td>\n",
       "      <td>T</td>\n",
       "      <td>{'C': 1.5, 'degree': 2, 'kernel': 'rbf'}</td>\n",
       "      <td>0.600694</td>\n",
       "      <td>0.659722</td>\n",
       "      <td>0.684722</td>\n",
       "      <td>0.659722</td>\n",
       "      <td>0.684722</td>\n",
       "      <td>0.659722</td>\n",
       "      <td>0.684722</td>\n",
       "      <td>0.520620</td>\n",
       "      <td>0.591265</td>\n",
       "      <td>0.659722</td>\n",
       "      <td>0.684722</td>\n",
       "    </tr>\n",
       "    <tr>\n",
       "      <th>2</th>\n",
       "      <td>Forest</td>\n",
       "      <td>F</td>\n",
       "      <td>{'criterion': 'gini', 'max_depth': 5, 'n_estim...</td>\n",
       "      <td>0.871528</td>\n",
       "      <td>0.583333</td>\n",
       "      <td>0.558333</td>\n",
       "      <td>0.583333</td>\n",
       "      <td>0.558333</td>\n",
       "      <td>0.583333</td>\n",
       "      <td>0.558333</td>\n",
       "      <td>0.845542</td>\n",
       "      <td>0.504474</td>\n",
       "      <td>0.583333</td>\n",
       "      <td>0.558333</td>\n",
       "    </tr>\n",
       "    <tr>\n",
       "      <th>3</th>\n",
       "      <td>MLP</td>\n",
       "      <td>F</td>\n",
       "      <td>{'hidden_layer_sizes': 100, 'learning_rate': '...</td>\n",
       "      <td>1.000000</td>\n",
       "      <td>0.597222</td>\n",
       "      <td>0.561111</td>\n",
       "      <td>0.597222</td>\n",
       "      <td>0.561111</td>\n",
       "      <td>0.597222</td>\n",
       "      <td>0.561111</td>\n",
       "      <td>1.000000</td>\n",
       "      <td>0.518700</td>\n",
       "      <td>0.597222</td>\n",
       "      <td>0.561111</td>\n",
       "    </tr>\n",
       "    <tr>\n",
       "      <th>4</th>\n",
       "      <td>Adaboost</td>\n",
       "      <td>T</td>\n",
       "      <td>{'base_estimator': DecisionTreeClassifier(), '...</td>\n",
       "      <td>1.000000</td>\n",
       "      <td>0.465278</td>\n",
       "      <td>0.461111</td>\n",
       "      <td>0.465278</td>\n",
       "      <td>0.461111</td>\n",
       "      <td>0.465278</td>\n",
       "      <td>0.461111</td>\n",
       "      <td>1.000000</td>\n",
       "      <td>0.358333</td>\n",
       "      <td>0.465278</td>\n",
       "      <td>0.461111</td>\n",
       "    </tr>\n",
       "    <tr>\n",
       "      <th>5</th>\n",
       "      <td>Bagging</td>\n",
       "      <td>T</td>\n",
       "      <td>{'base_estimator': SVC(), 'n_estimators': 40}</td>\n",
       "      <td>0.559028</td>\n",
       "      <td>0.652778</td>\n",
       "      <td>0.680556</td>\n",
       "      <td>0.652778</td>\n",
       "      <td>0.680556</td>\n",
       "      <td>0.652778</td>\n",
       "      <td>0.680556</td>\n",
       "      <td>0.470531</td>\n",
       "      <td>0.582778</td>\n",
       "      <td>0.652778</td>\n",
       "      <td>0.680556</td>\n",
       "    </tr>\n",
       "  </tbody>\n",
       "</table>\n",
       "</div>"
      ],
      "text/plain": [
       "  Algoritmo Using_reduction  \\\n",
       "0      Tree               F   \n",
       "1       SVC               T   \n",
       "2    Forest               F   \n",
       "3       MLP               F   \n",
       "4  Adaboost               T   \n",
       "5   Bagging               T   \n",
       "\n",
       "                                         best_params  Accuracy_train  \\\n",
       "0           {'criterion': 'entropy', 'max_depth': 6}        0.746528   \n",
       "1           {'C': 1.5, 'degree': 2, 'kernel': 'rbf'}        0.600694   \n",
       "2  {'criterion': 'gini', 'max_depth': 5, 'n_estim...        0.871528   \n",
       "3  {'hidden_layer_sizes': 100, 'learning_rate': '...        1.000000   \n",
       "4  {'base_estimator': DecisionTreeClassifier(), '...        1.000000   \n",
       "5      {'base_estimator': SVC(), 'n_estimators': 40}        0.559028   \n",
       "\n",
       "   Accuracy_test  Accuracy_kfold  Precision_test  Precision_kfold  \\\n",
       "0       0.479167        0.463889        0.479167         0.463889   \n",
       "1       0.659722        0.684722        0.659722         0.684722   \n",
       "2       0.583333        0.558333        0.583333         0.558333   \n",
       "3       0.597222        0.561111        0.597222         0.561111   \n",
       "4       0.465278        0.461111        0.465278         0.461111   \n",
       "5       0.652778        0.680556        0.652778         0.680556   \n",
       "\n",
       "   Recall_test  Recall_kfold  cohen-kappa_train  cohen-kappa_test   f1_test  \\\n",
       "0     0.479167      0.463889           0.695374          0.380236  0.479167   \n",
       "1     0.659722      0.684722           0.520620          0.591265  0.659722   \n",
       "2     0.583333      0.558333           0.845542          0.504474  0.583333   \n",
       "3     0.597222      0.561111           1.000000          0.518700  0.597222   \n",
       "4     0.465278      0.461111           1.000000          0.358333  0.465278   \n",
       "5     0.652778      0.680556           0.470531          0.582778  0.652778   \n",
       "\n",
       "   f1_kfold  \n",
       "0  0.463889  \n",
       "1  0.684722  \n",
       "2  0.558333  \n",
       "3  0.561111  \n",
       "4  0.461111  \n",
       "5  0.680556  "
      ]
     },
     "execution_count": 85,
     "metadata": {},
     "output_type": "execute_result"
    }
   ],
   "source": [
    "resultados"
   ]
  },
  {
   "cell_type": "code",
   "execution_count": null,
   "id": "a41b70da",
   "metadata": {},
   "outputs": [],
   "source": []
  }
 ],
 "metadata": {
  "kernelspec": {
   "display_name": "Python 3.8.11 64-bit ('env1': conda)",
   "language": "python",
   "name": "python3811jvsc74a57bd0a2d51eeffc2c120f5031b7bde6ffb008145a35a68e4bb66d0d15300374e07605"
  },
  "language_info": {
   "codemirror_mode": {
    "name": "ipython",
    "version": 3
   },
   "file_extension": ".py",
   "mimetype": "text/x-python",
   "name": "python",
   "nbconvert_exporter": "python",
   "pygments_lexer": "ipython3",
   "version": "3.8.11"
  }
 },
 "nbformat": 4,
 "nbformat_minor": 5
}
